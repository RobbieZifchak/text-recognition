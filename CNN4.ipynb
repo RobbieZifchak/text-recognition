{
 "cells": [
  {
   "cell_type": "code",
   "execution_count": 111,
   "metadata": {},
   "outputs": [],
   "source": [
    "import keras as ks\n",
    "\n",
    "#Preprocessing\n",
    "from keras.preprocessing.image import ImageDataGenerator, array_to_img, img_to_array, load_img\n",
    "from keras.preprocessing import image\n",
    "\n",
    "#modeling\n",
    "from keras.models import Sequential\n",
    "from keras.layers import Dense, Dropout, Activation, Flatten  \n",
    "from keras.layers import Convolution2D, MaxPooling2D\n",
    "from keras.utils import np_utils\n",
    "\n",
    "from sklearn.metrics import accuracy_score, confusion_matrix, classification_report, f1_score, roc_curve\n",
    "\n",
    "import matplotlib.pyplot as plt"
   ]
  },
  {
   "cell_type": "code",
   "execution_count": 138,
   "metadata": {},
   "outputs": [],
   "source": [
    "\n",
    "import pandas as pd\n",
    "import numpy as np\n",
    "\n",
    "import cv2\n",
    "from cv2 import imread, imshow, IMREAD_GRAYSCALE"
   ]
  },
  {
   "cell_type": "markdown",
   "metadata": {},
   "source": [
    "## Newest Iteration"
   ]
  },
  {
   "cell_type": "code",
   "execution_count": 222,
   "metadata": {},
   "outputs": [],
   "source": [
    "train_directory = '../text-recognition/2_train_balanced'\n",
    "test_directory = '../text-recognition/2_test_balanced'"
   ]
  },
  {
   "cell_type": "code",
   "execution_count": 270,
   "metadata": {},
   "outputs": [
    {
     "name": "stdout",
     "output_type": "stream",
     "text": [
      "Found 19183 images belonging to 78 classes.\n"
     ]
    }
   ],
   "source": [
    "train_generator = ImageDataGenerator(rescale=1./255).flow_from_directory(\n",
    "        train_directory,\n",
    "        color_mode = 'grayscale',\n",
    "        target_size=(64, 64),\n",
    "        class_mode = 'categorical', \n",
    "        #classes = labels_list, \n",
    "        batch_size= 24095)"
   ]
  },
  {
   "cell_type": "code",
   "execution_count": 271,
   "metadata": {},
   "outputs": [
    {
     "name": "stdout",
     "output_type": "stream",
     "text": [
      "Found 2125 images belonging to 78 classes.\n"
     ]
    }
   ],
   "source": [
    "test_generator = ImageDataGenerator(rescale=1./255).flow_from_directory(\n",
    "        test_directory,\n",
    "        color_mode = 'grayscale',\n",
    "        target_size= (64, 64),\n",
    "        class_mode = 'categorical',\n",
    "       # classes = labels_list,\n",
    "        batch_size= 2674)"
   ]
  },
  {
   "cell_type": "code",
   "execution_count": 229,
   "metadata": {
    "collapsed": true,
    "jupyter": {
     "outputs_hidden": true
    }
   },
   "outputs": [
    {
     "data": {
      "text/plain": [
       "['I',\n",
       " 'a',\n",
       " 'about',\n",
       " 'all',\n",
       " 'an',\n",
       " 'and',\n",
       " 'are',\n",
       " 'as',\n",
       " 'at',\n",
       " 'be',\n",
       " 'been',\n",
       " 'being',\n",
       " 'but',\n",
       " 'by',\n",
       " 'can',\n",
       " 'could',\n",
       " 'first',\n",
       " 'for',\n",
       " 'from',\n",
       " 'had',\n",
       " 'has',\n",
       " 'have',\n",
       " 'he',\n",
       " 'her',\n",
       " 'him',\n",
       " 'his',\n",
       " 'if',\n",
       " 'in',\n",
       " 'into',\n",
       " 'is',\n",
       " 'it',\n",
       " 'its',\n",
       " 'like',\n",
       " 'made',\n",
       " 'man',\n",
       " 'may',\n",
       " 'me',\n",
       " 'more',\n",
       " 'much',\n",
       " 'new',\n",
       " 'no',\n",
       " 'not',\n",
       " 'of',\n",
       " 'on',\n",
       " 'one',\n",
       " 'only',\n",
       " 'or',\n",
       " 'other',\n",
       " 'out',\n",
       " 'over',\n",
       " 'said',\n",
       " 'she',\n",
       " 'so',\n",
       " 'some',\n",
       " 'than',\n",
       " 'that',\n",
       " 'the',\n",
       " 'their',\n",
       " 'them',\n",
       " 'there',\n",
       " 'they',\n",
       " 'this',\n",
       " 'time',\n",
       " 'to',\n",
       " 'two',\n",
       " 'up',\n",
       " 'very',\n",
       " 'was',\n",
       " 'we',\n",
       " 'were',\n",
       " 'what',\n",
       " 'when',\n",
       " 'which',\n",
       " 'who',\n",
       " 'will',\n",
       " 'with',\n",
       " 'would',\n",
       " 'you']"
      ]
     },
     "execution_count": 229,
     "metadata": {},
     "output_type": "execute_result"
    }
   ],
   "source": [
    "class_dictionary = train_generator.class_indices\n",
    "labels = {v: k for k, v in class_dictionary.items()}\n",
    "labels_list = [words for words in labels.values()]\n",
    "labels_list"
   ]
  },
  {
   "cell_type": "code",
   "execution_count": 272,
   "metadata": {},
   "outputs": [],
   "source": [
    "train_data, train_labels = next(train_generator)\n",
    "test_data, test_labels = next(test_generator)"
   ]
  },
  {
   "cell_type": "code",
   "execution_count": 273,
   "metadata": {},
   "outputs": [
    {
     "name": "stdout",
     "output_type": "stream",
     "text": [
      "training: (19183, 64, 64, 1)\n",
      "testing: (2125, 64, 64, 1)\n"
     ]
    }
   ],
   "source": [
    "print('training: {}'.format(train_data.shape))\n",
    "\n",
    "print('testing: {}'.format(test_data.shape))"
   ]
  },
  {
   "cell_type": "code",
   "execution_count": 269,
   "metadata": {},
   "outputs": [
    {
     "data": {
      "text/plain": [
       "21308"
      ]
     },
     "execution_count": 269,
     "metadata": {},
     "output_type": "execute_result"
    }
   ],
   "source": [
    "19183 + 2125"
   ]
  },
  {
   "cell_type": "code",
   "execution_count": 255,
   "metadata": {
    "collapsed": true,
    "jupyter": {
     "outputs_hidden": true
    }
   },
   "outputs": [
    {
     "data": {
      "text/plain": [
       "{'I': 0,\n",
       " 'a': 1,\n",
       " 'about': 2,\n",
       " 'all': 3,\n",
       " 'an': 4,\n",
       " 'and': 5,\n",
       " 'are': 6,\n",
       " 'as': 7,\n",
       " 'at': 8,\n",
       " 'be': 9,\n",
       " 'been': 10,\n",
       " 'being': 11,\n",
       " 'but': 12,\n",
       " 'by': 13,\n",
       " 'can': 14,\n",
       " 'could': 15,\n",
       " 'first': 16,\n",
       " 'for': 17,\n",
       " 'from': 18,\n",
       " 'had': 19,\n",
       " 'has': 20,\n",
       " 'have': 21,\n",
       " 'he': 22,\n",
       " 'her': 23,\n",
       " 'him': 24,\n",
       " 'his': 25,\n",
       " 'if': 26,\n",
       " 'in': 27,\n",
       " 'into': 28,\n",
       " 'is': 29,\n",
       " 'it': 30,\n",
       " 'its': 31,\n",
       " 'like': 32,\n",
       " 'made': 33,\n",
       " 'man': 34,\n",
       " 'may': 35,\n",
       " 'me': 36,\n",
       " 'more': 37,\n",
       " 'much': 38,\n",
       " 'new': 39,\n",
       " 'no': 40,\n",
       " 'not': 41,\n",
       " 'of': 42,\n",
       " 'on': 43,\n",
       " 'one': 44,\n",
       " 'only': 45,\n",
       " 'or': 46,\n",
       " 'other': 47,\n",
       " 'out': 48,\n",
       " 'over': 49,\n",
       " 'said': 50,\n",
       " 'she': 51,\n",
       " 'so': 52,\n",
       " 'some': 53,\n",
       " 'than': 54,\n",
       " 'that': 55,\n",
       " 'the': 56,\n",
       " 'their': 57,\n",
       " 'them': 58,\n",
       " 'there': 59,\n",
       " 'they': 60,\n",
       " 'this': 61,\n",
       " 'time': 62,\n",
       " 'to': 63,\n",
       " 'two': 64,\n",
       " 'up': 65,\n",
       " 'very': 66,\n",
       " 'was': 67,\n",
       " 'we': 68,\n",
       " 'were': 69,\n",
       " 'what': 70,\n",
       " 'when': 71,\n",
       " 'which': 72,\n",
       " 'who': 73,\n",
       " 'will': 74,\n",
       " 'with': 75,\n",
       " 'would': 76,\n",
       " 'you': 77}"
      ]
     },
     "execution_count": 255,
     "metadata": {},
     "output_type": "execute_result"
    }
   ],
   "source": [
    "train_generator.class_indices"
   ]
  },
  {
   "cell_type": "markdown",
   "metadata": {},
   "source": [
    "###  Building CNN Framework"
   ]
  },
  {
   "cell_type": "code",
   "execution_count": 274,
   "metadata": {},
   "outputs": [],
   "source": [
    "model = Sequential()\n",
    "#The first convolution\n",
    "model.add(Convolution2D(16, (3,3), activation='relu', input_shape=(64, 64, 1)))\n",
    "model.add(MaxPooling2D(2, 2))\n",
    "\n",
    "# # The second convolution\n",
    "model.add(Convolution2D(32, (3,3), activation='relu'))\n",
    "model.add(MaxPooling2D(2,2))\n",
    "\n",
    "#The third convolution\n",
    "model.add(Convolution2D(64, (3,3), activation='relu'))\n",
    "model.add(MaxPooling2D(2,2))\n",
    "\n",
    "#The fourth convolution\n",
    "model.add(Convolution2D(64, (3,3), activation='relu'))\n",
    "model.add(MaxPooling2D(2,2))\n",
    "\n",
    "# #The fifth convolution\n",
    "# model.add(Convolution2D(128, (1, 1), activation='relu'))  \n",
    "# model.add(MaxPooling2D(2,2))\n",
    "\n",
    "\n",
    "# Flatten the results to feed into a dense layer\n",
    "model.add(Flatten())\n",
    "          \n",
    "# 128 neurons in the fully-connected layer\n",
    "model.add(Dense(128, activation='relu'))\n",
    "          \n",
    "# 147 output neurons for 147 classes with the softmax activation\n",
    "model.add(Dense(78, activation='softmax'))"
   ]
  },
  {
   "cell_type": "code",
   "execution_count": 275,
   "metadata": {},
   "outputs": [],
   "source": [
    "model.compile(loss='categorical_crossentropy',\n",
    "              optimizer= 'Adam',\n",
    "              metrics=['accuracy'])"
   ]
  },
  {
   "cell_type": "code",
   "execution_count": 276,
   "metadata": {},
   "outputs": [],
   "source": [
    "x_val = train_data[:2100]\n",
    "partial_x_train = train_data[2100:]\n",
    "\n",
    "y_val = train_labels[:2100]\n",
    "partial_y_train = train_labels[2100:]"
   ]
  },
  {
   "cell_type": "code",
   "execution_count": 277,
   "metadata": {},
   "outputs": [
    {
     "data": {
      "text/plain": [
       "(17083, 64, 64, 1)"
      ]
     },
     "execution_count": 277,
     "metadata": {},
     "output_type": "execute_result"
    }
   ],
   "source": [
    "partial_x_train.shape"
   ]
  },
  {
   "cell_type": "code",
   "execution_count": 279,
   "metadata": {
    "collapsed": true,
    "jupyter": {
     "outputs_hidden": true
    }
   },
   "outputs": [
    {
     "name": "stdout",
     "output_type": "stream",
     "text": [
      "Train on 17083 samples, validate on 2100 samples\n",
      "Epoch 1/70\n",
      "17083/17083 [==============================] - 36s 2ms/step - loss: 4.2251 - accuracy: 0.0368 - val_loss: 4.1340 - val_accuracy: 0.0462\n",
      "Epoch 2/70\n",
      "17083/17083 [==============================] - 36s 2ms/step - loss: 3.5629 - accuracy: 0.1522 - val_loss: 2.9245 - val_accuracy: 0.2271\n",
      "Epoch 3/70\n",
      "17083/17083 [==============================] - 35s 2ms/step - loss: 2.5647 - accuracy: 0.3022 - val_loss: 2.3682 - val_accuracy: 0.3448\n",
      "Epoch 4/70\n",
      "17083/17083 [==============================] - 34s 2ms/step - loss: 2.1426 - accuracy: 0.3968 - val_loss: 2.0795 - val_accuracy: 0.4190\n",
      "Epoch 5/70\n",
      "17083/17083 [==============================] - 34s 2ms/step - loss: 1.9290 - accuracy: 0.4521 - val_loss: 1.9478 - val_accuracy: 0.4543\n",
      "Epoch 6/70\n",
      "17083/17083 [==============================] - 34s 2ms/step - loss: 1.7549 - accuracy: 0.4928 - val_loss: 1.7337 - val_accuracy: 0.5095\n",
      "Epoch 7/70\n",
      "17083/17083 [==============================] - 34s 2ms/step - loss: 1.6052 - accuracy: 0.5329 - val_loss: 1.6690 - val_accuracy: 0.5333\n",
      "Epoch 8/70\n",
      "17083/17083 [==============================] - 34s 2ms/step - loss: 1.4725 - accuracy: 0.5737 - val_loss: 1.5458 - val_accuracy: 0.5624\n",
      "Epoch 9/70\n",
      "17083/17083 [==============================] - 34s 2ms/step - loss: 1.3731 - accuracy: 0.6017 - val_loss: 1.4874 - val_accuracy: 0.5752\n",
      "Epoch 10/70\n",
      "17083/17083 [==============================] - 34s 2ms/step - loss: 1.2686 - accuracy: 0.6310 - val_loss: 1.4109 - val_accuracy: 0.6014\n",
      "Epoch 11/70\n",
      "17083/17083 [==============================] - 34s 2ms/step - loss: 1.1835 - accuracy: 0.6518 - val_loss: 1.3055 - val_accuracy: 0.6281\n",
      "Epoch 12/70\n",
      "17083/17083 [==============================] - 34s 2ms/step - loss: 1.0976 - accuracy: 0.6775 - val_loss: 1.3504 - val_accuracy: 0.6281\n",
      "Epoch 13/70\n",
      "17083/17083 [==============================] - 34s 2ms/step - loss: 1.0604 - accuracy: 0.6862 - val_loss: 1.2212 - val_accuracy: 0.6514\n",
      "Epoch 14/70\n",
      "17083/17083 [==============================] - 34s 2ms/step - loss: 0.9857 - accuracy: 0.7088 - val_loss: 1.3284 - val_accuracy: 0.6219\n",
      "Epoch 15/70\n",
      "17083/17083 [==============================] - 34s 2ms/step - loss: 0.9300 - accuracy: 0.7243 - val_loss: 1.1194 - val_accuracy: 0.6733\n",
      "Epoch 16/70\n",
      "17083/17083 [==============================] - 35s 2ms/step - loss: 0.8789 - accuracy: 0.7383 - val_loss: 1.1379 - val_accuracy: 0.6790\n",
      "Epoch 17/70\n",
      "17083/17083 [==============================] - 33s 2ms/step - loss: 0.8590 - accuracy: 0.7423 - val_loss: 1.0916 - val_accuracy: 0.6948\n",
      "Epoch 18/70\n",
      "17083/17083 [==============================] - 34s 2ms/step - loss: 0.8077 - accuracy: 0.7539 - val_loss: 1.0382 - val_accuracy: 0.7038\n",
      "Epoch 19/70\n",
      "17083/17083 [==============================] - 36s 2ms/step - loss: 0.7522 - accuracy: 0.7733 - val_loss: 1.0329 - val_accuracy: 0.7052\n",
      "Epoch 20/70\n",
      "17083/17083 [==============================] - 37s 2ms/step - loss: 0.7305 - accuracy: 0.7805 - val_loss: 0.9861 - val_accuracy: 0.7105\n",
      "Epoch 21/70\n",
      "17083/17083 [==============================] - 34s 2ms/step - loss: 0.6984 - accuracy: 0.7895 - val_loss: 0.9967 - val_accuracy: 0.7190\n",
      "Epoch 22/70\n",
      "17083/17083 [==============================] - 34s 2ms/step - loss: 0.6531 - accuracy: 0.8013 - val_loss: 1.0164 - val_accuracy: 0.7095\n",
      "Epoch 23/70\n",
      "17083/17083 [==============================] - 34s 2ms/step - loss: 0.6380 - accuracy: 0.8059 - val_loss: 0.9612 - val_accuracy: 0.7248\n",
      "Epoch 24/70\n",
      "17083/17083 [==============================] - 34s 2ms/step - loss: 0.6308 - accuracy: 0.8069 - val_loss: 0.9216 - val_accuracy: 0.7348\n",
      "Epoch 25/70\n",
      "17083/17083 [==============================] - 34s 2ms/step - loss: 0.5795 - accuracy: 0.8213 - val_loss: 0.9224 - val_accuracy: 0.7371\n",
      "Epoch 26/70\n",
      "17083/17083 [==============================] - 34s 2ms/step - loss: 0.5616 - accuracy: 0.8295 - val_loss: 0.9203 - val_accuracy: 0.7405\n",
      "Epoch 27/70\n",
      "17083/17083 [==============================] - 34s 2ms/step - loss: 0.5401 - accuracy: 0.8332 - val_loss: 0.9623 - val_accuracy: 0.7252\n",
      "Epoch 28/70\n",
      "17083/17083 [==============================] - 35s 2ms/step - loss: 0.5201 - accuracy: 0.8420 - val_loss: 0.9071 - val_accuracy: 0.7457\n",
      "Epoch 29/70\n",
      "17083/17083 [==============================] - 34s 2ms/step - loss: 0.5030 - accuracy: 0.8433 - val_loss: 0.9044 - val_accuracy: 0.7457\n",
      "Epoch 30/70\n",
      "17083/17083 [==============================] - 35s 2ms/step - loss: 0.4945 - accuracy: 0.8452 - val_loss: 0.9302 - val_accuracy: 0.7429\n",
      "Epoch 31/70\n",
      "17083/17083 [==============================] - 35s 2ms/step - loss: 0.4803 - accuracy: 0.8510 - val_loss: 0.8558 - val_accuracy: 0.7638\n",
      "Epoch 32/70\n",
      "17083/17083 [==============================] - 35s 2ms/step - loss: 0.4458 - accuracy: 0.8612 - val_loss: 0.9888 - val_accuracy: 0.7281\n",
      "Epoch 33/70\n",
      "17083/17083 [==============================] - 35s 2ms/step - loss: 0.4417 - accuracy: 0.8590 - val_loss: 0.9551 - val_accuracy: 0.7376\n",
      "Epoch 34/70\n",
      "17083/17083 [==============================] - 36s 2ms/step - loss: 0.4102 - accuracy: 0.8705 - val_loss: 0.9096 - val_accuracy: 0.7486\n",
      "Epoch 35/70\n",
      "17083/17083 [==============================] - 34s 2ms/step - loss: 0.3976 - accuracy: 0.8761 - val_loss: 0.8320 - val_accuracy: 0.7710\n",
      "Epoch 36/70\n",
      "17083/17083 [==============================] - 34s 2ms/step - loss: 0.3764 - accuracy: 0.8842 - val_loss: 0.8690 - val_accuracy: 0.7648\n",
      "Epoch 37/70\n",
      "17083/17083 [==============================] - 35s 2ms/step - loss: 0.3634 - accuracy: 0.8860 - val_loss: 0.8662 - val_accuracy: 0.7681\n",
      "Epoch 38/70\n",
      "17083/17083 [==============================] - 34s 2ms/step - loss: 0.3409 - accuracy: 0.8921 - val_loss: 0.8815 - val_accuracy: 0.7643\n",
      "Epoch 39/70\n",
      "17083/17083 [==============================] - 34s 2ms/step - loss: 0.3490 - accuracy: 0.8890 - val_loss: 0.8243 - val_accuracy: 0.7757\n",
      "Epoch 40/70\n",
      "17083/17083 [==============================] - 35s 2ms/step - loss: 0.3209 - accuracy: 0.8990 - val_loss: 0.8784 - val_accuracy: 0.7733\n",
      "Epoch 41/70\n",
      "17083/17083 [==============================] - 34s 2ms/step - loss: 0.2967 - accuracy: 0.9077 - val_loss: 0.8462 - val_accuracy: 0.7800\n",
      "Epoch 42/70\n",
      "17083/17083 [==============================] - 35s 2ms/step - loss: 0.2835 - accuracy: 0.9121 - val_loss: 0.8841 - val_accuracy: 0.7719\n",
      "Epoch 43/70\n",
      "17083/17083 [==============================] - 34s 2ms/step - loss: 0.2831 - accuracy: 0.9097 - val_loss: 0.9440 - val_accuracy: 0.7610\n",
      "Epoch 44/70\n",
      "17083/17083 [==============================] - 35s 2ms/step - loss: 0.2885 - accuracy: 0.9077 - val_loss: 0.8808 - val_accuracy: 0.7757\n",
      "Epoch 45/70\n",
      "17083/17083 [==============================] - 35s 2ms/step - loss: 0.2645 - accuracy: 0.9139 - val_loss: 0.9089 - val_accuracy: 0.7757\n",
      "Epoch 46/70\n",
      "17083/17083 [==============================] - 34s 2ms/step - loss: 0.2429 - accuracy: 0.9230 - val_loss: 0.8858 - val_accuracy: 0.7867\n",
      "Epoch 47/70\n",
      "17083/17083 [==============================] - 35s 2ms/step - loss: 0.2233 - accuracy: 0.9278 - val_loss: 0.8584 - val_accuracy: 0.7952\n",
      "Epoch 48/70\n",
      "17083/17083 [==============================] - 35s 2ms/step - loss: 0.2150 - accuracy: 0.9318 - val_loss: 0.9052 - val_accuracy: 0.7776\n",
      "Epoch 49/70\n",
      "17083/17083 [==============================] - 35s 2ms/step - loss: 0.2191 - accuracy: 0.9302 - val_loss: 1.0896 - val_accuracy: 0.7519\n",
      "Epoch 50/70\n",
      "17083/17083 [==============================] - 35s 2ms/step - loss: 0.2282 - accuracy: 0.9251 - val_loss: 0.9009 - val_accuracy: 0.7848\n",
      "Epoch 51/70\n",
      "17083/17083 [==============================] - 36s 2ms/step - loss: 0.1955 - accuracy: 0.9380 - val_loss: 0.9287 - val_accuracy: 0.7862\n",
      "Epoch 52/70\n",
      "17083/17083 [==============================] - 35s 2ms/step - loss: 0.1937 - accuracy: 0.9385 - val_loss: 0.9426 - val_accuracy: 0.7862\n",
      "Epoch 53/70\n",
      "17083/17083 [==============================] - 35s 2ms/step - loss: 0.1698 - accuracy: 0.9477 - val_loss: 0.9446 - val_accuracy: 0.7905\n",
      "Epoch 54/70\n",
      "17083/17083 [==============================] - 36s 2ms/step - loss: 0.1644 - accuracy: 0.9475 - val_loss: 0.9913 - val_accuracy: 0.7810\n",
      "Epoch 55/70\n",
      "17083/17083 [==============================] - 35s 2ms/step - loss: 0.1618 - accuracy: 0.9483 - val_loss: 1.0331 - val_accuracy: 0.7719\n",
      "Epoch 56/70\n",
      "17083/17083 [==============================] - 35s 2ms/step - loss: 0.1735 - accuracy: 0.9418 - val_loss: 1.0040 - val_accuracy: 0.7819\n",
      "Epoch 57/70\n",
      "17083/17083 [==============================] - 35s 2ms/step - loss: 0.1806 - accuracy: 0.9390 - val_loss: 1.0069 - val_accuracy: 0.7786\n",
      "Epoch 58/70\n",
      "17083/17083 [==============================] - 35s 2ms/step - loss: 0.1528 - accuracy: 0.9508 - val_loss: 1.0165 - val_accuracy: 0.7919\n",
      "Epoch 59/70\n",
      "17083/17083 [==============================] - 35s 2ms/step - loss: 0.1371 - accuracy: 0.9566 - val_loss: 0.9898 - val_accuracy: 0.7957\n",
      "Epoch 60/70\n",
      "17083/17083 [==============================] - 34s 2ms/step - loss: 0.1169 - accuracy: 0.9641 - val_loss: 1.0720 - val_accuracy: 0.7862\n",
      "Epoch 61/70\n",
      "17083/17083 [==============================] - 35s 2ms/step - loss: 0.1425 - accuracy: 0.9542 - val_loss: 1.0536 - val_accuracy: 0.7862\n",
      "Epoch 62/70\n",
      "17083/17083 [==============================] - 35s 2ms/step - loss: 0.1072 - accuracy: 0.9679 - val_loss: 1.0827 - val_accuracy: 0.7848\n",
      "Epoch 63/70\n",
      "17083/17083 [==============================] - 35s 2ms/step - loss: 0.1106 - accuracy: 0.9648 - val_loss: 1.1066 - val_accuracy: 0.7852\n",
      "Epoch 64/70\n",
      "17083/17083 [==============================] - 35s 2ms/step - loss: 0.1072 - accuracy: 0.9665 - val_loss: 1.2038 - val_accuracy: 0.7862\n",
      "Epoch 65/70\n",
      "17083/17083 [==============================] - 35s 2ms/step - loss: 0.0971 - accuracy: 0.9694 - val_loss: 1.1022 - val_accuracy: 0.7905\n",
      "Epoch 66/70\n",
      "17083/17083 [==============================] - 35s 2ms/step - loss: 0.0881 - accuracy: 0.9739 - val_loss: 1.1647 - val_accuracy: 0.7829\n",
      "Epoch 67/70\n",
      "17083/17083 [==============================] - 35s 2ms/step - loss: 0.0916 - accuracy: 0.9709 - val_loss: 1.1789 - val_accuracy: 0.7786\n",
      "Epoch 68/70\n",
      "17083/17083 [==============================] - 36s 2ms/step - loss: 0.1251 - accuracy: 0.9589 - val_loss: 1.1899 - val_accuracy: 0.7790\n",
      "Epoch 69/70\n",
      "17083/17083 [==============================] - 35s 2ms/step - loss: 0.0877 - accuracy: 0.9727 - val_loss: 1.2410 - val_accuracy: 0.7776\n",
      "Epoch 70/70\n",
      "17083/17083 [==============================] - 36s 2ms/step - loss: 0.1010 - accuracy: 0.9669 - val_loss: 1.1466 - val_accuracy: 0.7943\n"
     ]
    }
   ],
   "source": [
    "cnn_4 = model.fit(partial_x_train,\n",
    "                    partial_y_train,\n",
    "                    epochs=70,\n",
    "                    batch_size= 341,\n",
    "                    validation_data=(x_val, y_val))"
   ]
  },
  {
   "cell_type": "code",
   "execution_count": 282,
   "metadata": {},
   "outputs": [],
   "source": [
    "#Take1 - 73%, saved as: model.save('rebalance1.h5')\n",
    "model.save('78%-2-Balanced.h5')"
   ]
  },
  {
   "cell_type": "code",
   "execution_count": 280,
   "metadata": {},
   "outputs": [
    {
     "name": "stdout",
     "output_type": "stream",
     "text": [
      "2125/2125 [==============================] - 1s 674us/step\n",
      "model score: [1.1826948523801917, 0.7872940897941589]\n"
     ]
    }
   ],
   "source": [
    "score = model.evaluate(test_data, test_labels)\n",
    "print('model score: {}'.format(score))"
   ]
  },
  {
   "cell_type": "code",
   "execution_count": 294,
   "metadata": {},
   "outputs": [
    {
     "data": {
      "image/png": "[encoded data removed]",
      "text/plain": [
       "<Figure size 1008x576 with 2 Axes>"
      ]
     },
     "metadata": {
      "needs_background": "light"
     },
     "output_type": "display_data"
    }
   ],
   "source": [
    "plt.figure(figsize=(14,8))\n",
    "plt.subplot(1, 2, 1)\n",
    "plt.suptitle('Balanced CNN  - Optimizer : RMSProp', fontsize=10)\n",
    "plt.ylabel('Loss', fontsize=16)\n",
    "plt.plot(cnn_4.history['loss'], label='Training Loss')\n",
    "plt.plot(cnn_4.history['val_loss'], label='Validation Loss')\n",
    "plt.legend(loc='upper right')\n",
    "\n",
    "plt.subplot(1, 2, 2)\n",
    "plt.ylabel('Accuracy', fontsize=16)\n",
    "plt.plot(cnn_4.history['accuracy'], label='Training Accuracy')\n",
    "plt.plot(cnn_4.history['val_accuracy'], label='Validation Accuracy')\n",
    "plt.legend(loc='lower right')\n",
    "\n",
    "plt.savefig('78%-2-BalancedCNN.png', bbox_inches  = 'tight')"
   ]
  },
  {
   "cell_type": "code",
   "execution_count": 291,
   "metadata": {
    "collapsed": true,
    "jupyter": {
     "outputs_hidden": true
    }
   },
   "outputs": [
    {
     "ename": "TypeError",
     "evalue": "'numpy.float64' object is not callable",
     "output_type": "error",
     "traceback": [
      "\u001b[0;31m---------------------------------------------------------------------------\u001b[0m",
      "\u001b[0;31mTypeError\u001b[0m                                 Traceback (most recent call last)",
      "\u001b[0;32m<ipython-input-291-2350b9bd8825>\u001b[0m in \u001b[0;36m<module>\u001b[0;34m\u001b[0m\n\u001b[1;32m      1\u001b[0m \u001b[0;31m#predictions = model.predict(test_data)\u001b[0m\u001b[0;34m\u001b[0m\u001b[0;34m\u001b[0m\u001b[0;34m\u001b[0m\u001b[0m\n\u001b[1;32m      2\u001b[0m \u001b[0mpredictions\u001b[0m \u001b[0;34m=\u001b[0m \u001b[0mnp\u001b[0m\u001b[0;34m.\u001b[0m\u001b[0maround\u001b[0m\u001b[0;34m(\u001b[0m\u001b[0mpredictions\u001b[0m\u001b[0;34m)\u001b[0m\u001b[0;34m\u001b[0m\u001b[0;34m\u001b[0m\u001b[0m\n\u001b[0;32m----> 3\u001b[0;31m \u001b[0mf1_score\u001b[0m \u001b[0;34m=\u001b[0m \u001b[0mf1_score\u001b[0m\u001b[0;34m(\u001b[0m\u001b[0mtest_labels\u001b[0m\u001b[0;34m,\u001b[0m \u001b[0mpredictions\u001b[0m\u001b[0;34m,\u001b[0m \u001b[0maverage\u001b[0m\u001b[0;34m=\u001b[0m\u001b[0;34m'micro'\u001b[0m\u001b[0;34m)\u001b[0m\u001b[0;34m\u001b[0m\u001b[0;34m\u001b[0m\u001b[0m\n\u001b[0m\u001b[1;32m      4\u001b[0m \u001b[0mprint\u001b[0m\u001b[0;34m(\u001b[0m\u001b[0;34m'f1 score: {}'\u001b[0m\u001b[0;34m.\u001b[0m\u001b[0mformat\u001b[0m\u001b[0;34m(\u001b[0m\u001b[0mf1_score\u001b[0m\u001b[0;34m)\u001b[0m\u001b[0;34m)\u001b[0m\u001b[0;34m\u001b[0m\u001b[0;34m\u001b[0m\u001b[0m\n",
      "\u001b[0;31mTypeError\u001b[0m: 'numpy.float64' object is not callable"
     ]
    }
   ],
   "source": [
    "# #predictions = model.predict(test_data)\n",
    "# predictions = np.around(predictions)\n",
    "# f1_score = f1_score(test_labels, predictions, average='micro')\n",
    "# print('f1 score: {}'.format(f1_score))"
   ]
  }
 ],
 "metadata": {
  "kernelspec": {
   "display_name": "Python 3",
   "language": "python",
   "name": "python3"
  },
  "language_info": {
   "codemirror_mode": {
    "name": "ipython",
    "version": 3
   },
   "file_extension": ".py",
   "mimetype": "text/x-python",
   "name": "python",
   "nbconvert_exporter": "python",
   "pygments_lexer": "ipython3",
   "version": "3.7.4"
  }
 },
 "nbformat": 4,
 "nbformat_minor": 4
}
