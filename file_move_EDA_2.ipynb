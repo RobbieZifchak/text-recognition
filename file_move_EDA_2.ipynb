{
 "cells": [
  {
   "cell_type": "code",
   "execution_count": 4,
   "metadata": {},
   "outputs": [],
   "source": [
    "import pandas as pd\n",
    "import numpy as np\n",
    "import matplotlib.pyplot as plt\n",
    "import seaborn as sns\n",
    "\n",
    "from sklearn.model_selection import train_test_split\n",
    "import re\n",
    "\n",
    "import os\n",
    "import shutil"
   ]
  },
  {
   "cell_type": "code",
   "execution_count": 5,
   "metadata": {
    "jupyter": {
     "source_hidden": true
    }
   },
   "outputs": [],
   "source": [
    "#iterate through split list and select desired values via index\n",
    "def text_to_df(text_file):\n",
    "    \n",
    "    \"\"\"Function receives text file(string) as input, and will select image.png name, status code, and target name, and return a pandas DataFrame object\"\"\"\n",
    "    \n",
    "    text_object = open(text_file)\n",
    "    \n",
    "    words_text_1 = text_object.readlines()\n",
    "    \n",
    "    #slice unwanted headers from text object\n",
    "    words_text = words_text_1[18:]\n",
    "    \n",
    "    comma_separated = []\n",
    "    #split text values into comma separated values\n",
    "    \n",
    "    for x in words_text: \n",
    "        comma_separated.append(x.split())\n",
    "    \n",
    "    images = []\n",
    "    targets = []\n",
    "    status_code = []\n",
    "\n",
    "    for target in comma_separated:\n",
    "        images.append(target[0])\n",
    "        status_code.append(target[1])\n",
    "        targets.append(target[-1])\n",
    "        \n",
    "    img_array = np.array(images)\n",
    "    target_array = np.array(targets)\n",
    "    status_array = np.array(status_code)\n",
    "    \n",
    "    img_series = pd.Series(img_array)\n",
    "    target_series = pd.Series(target_array)\n",
    "    status_series = pd.Series(status_array)\n",
    "    \n",
    "    img_df = pd.DataFrame(img_series)\n",
    "    target_df = pd.DataFrame(target_series)\n",
    "    status_df = pd.DataFrame(status_series)\n",
    "    \n",
    "    df_1 = img_df.merge(status_df, left_index=True, right_index=True)\n",
    "    df = df_1.merge(target_df, left_index = True, right_index = True)\n",
    "    \n",
    "    df.rename(columns={'0_x': 'image', '0_y':'status_code', 0 : 'target'}, inplace=True)\n",
    "    \n",
    "    return df\n"
   ]
  },
  {
   "cell_type": "code",
   "execution_count": 6,
   "metadata": {},
   "outputs": [],
   "source": [
    "full_text = text_to_df('words.txt')"
   ]
  },
  {
   "cell_type": "code",
   "execution_count": 7,
   "metadata": {},
   "outputs": [
    {
     "data": {
      "text/html": [
       "<div>\n",
       "<style scoped>\n",
       "    .dataframe tbody tr th:only-of-type {\n",
       "        vertical-align: middle;\n",
       "    }\n",
       "\n",
       "    .dataframe tbody tr th {\n",
       "        vertical-align: top;\n",
       "    }\n",
       "\n",
       "    .dataframe thead th {\n",
       "        text-align: right;\n",
       "    }\n",
       "</style>\n",
       "<table border=\"1\" class=\"dataframe\">\n",
       "  <thead>\n",
       "    <tr style=\"text-align: right;\">\n",
       "      <th></th>\n",
       "      <th>image</th>\n",
       "      <th>status_code</th>\n",
       "      <th>target</th>\n",
       "    </tr>\n",
       "  </thead>\n",
       "  <tbody>\n",
       "    <tr>\n",
       "      <td>0</td>\n",
       "      <td>a01-000u-02-05</td>\n",
       "      <td>ok</td>\n",
       "      <td>a</td>\n",
       "    </tr>\n",
       "    <tr>\n",
       "      <td>1</td>\n",
       "      <td>a01-000u-02-06</td>\n",
       "      <td>ok</td>\n",
       "      <td>meeting</td>\n",
       "    </tr>\n",
       "    <tr>\n",
       "      <td>2</td>\n",
       "      <td>a01-000u-02-07</td>\n",
       "      <td>ok</td>\n",
       "      <td>of</td>\n",
       "    </tr>\n",
       "    <tr>\n",
       "      <td>3</td>\n",
       "      <td>a01-000u-02-08</td>\n",
       "      <td>ok</td>\n",
       "      <td>Labour</td>\n",
       "    </tr>\n",
       "    <tr>\n",
       "      <td>4</td>\n",
       "      <td>a01-000u-03-00</td>\n",
       "      <td>err</td>\n",
       "      <td>Ps</td>\n",
       "    </tr>\n",
       "  </tbody>\n",
       "</table>\n",
       "</div>"
      ],
      "text/plain": [
       "            image status_code   target\n",
       "0  a01-000u-02-05          ok        a\n",
       "1  a01-000u-02-06          ok  meeting\n",
       "2  a01-000u-02-07          ok       of\n",
       "3  a01-000u-02-08          ok   Labour\n",
       "4  a01-000u-03-00         err       Ps"
      ]
     },
     "execution_count": 7,
     "metadata": {},
     "output_type": "execute_result"
    }
   ],
   "source": [
    "full_text.head()"
   ]
  },
  {
   "cell_type": "code",
   "execution_count": 8,
   "metadata": {},
   "outputs": [
    {
     "data": {
      "text/plain": [
       "(115302, 3)"
      ]
     },
     "execution_count": 8,
     "metadata": {},
     "output_type": "execute_result"
    }
   ],
   "source": [
    "full_text.shape"
   ]
  },
  {
   "cell_type": "code",
   "execution_count": 9,
   "metadata": {},
   "outputs": [],
   "source": [
    "def remove_err(df):\n",
    "    df.drop(df[df['status_code'] == 'err'].index, inplace = True)\n",
    "   "
   ]
  },
  {
   "cell_type": "code",
   "execution_count": 10,
   "metadata": {},
   "outputs": [],
   "source": [
    "remove_err(full_text)"
   ]
  },
  {
   "cell_type": "code",
   "execution_count": 11,
   "metadata": {},
   "outputs": [
    {
     "data": {
      "text/plain": [
       "(96438, 3)"
      ]
     },
     "execution_count": 11,
     "metadata": {},
     "output_type": "execute_result"
    }
   ],
   "source": [
    "full_text.shape"
   ]
  },
  {
   "cell_type": "markdown",
   "metadata": {},
   "source": [
    "## Adding unique counts column to dataframe to check class balance "
   ]
  },
  {
   "cell_type": "code",
   "execution_count": 12,
   "metadata": {},
   "outputs": [],
   "source": [
    "def get_unique_targets(df):\n",
    "    unique_df = pd.DataFrame(df['target'].value_counts())\n",
    "    reset_df = unique_df.reset_index()\n",
    "    reset_df.rename(columns = {'index': 'target', 'target': 'count'}, inplace = True)\n",
    "    return reset_df\n",
    "  "
   ]
  },
  {
   "cell_type": "code",
   "execution_count": 14,
   "metadata": {},
   "outputs": [],
   "source": [
    "master_unique  = get_unique_targets(full_text)"
   ]
  },
  {
   "cell_type": "code",
   "execution_count": 15,
   "metadata": {},
   "outputs": [
    {
     "data": {
      "text/html": [
       "<div>\n",
       "<style scoped>\n",
       "    .dataframe tbody tr th:only-of-type {\n",
       "        vertical-align: middle;\n",
       "    }\n",
       "\n",
       "    .dataframe tbody tr th {\n",
       "        vertical-align: top;\n",
       "    }\n",
       "\n",
       "    .dataframe thead th {\n",
       "        text-align: right;\n",
       "    }\n",
       "</style>\n",
       "<table border=\"1\" class=\"dataframe\">\n",
       "  <thead>\n",
       "    <tr style=\"text-align: right;\">\n",
       "      <th></th>\n",
       "      <th>target</th>\n",
       "      <th>count</th>\n",
       "    </tr>\n",
       "  </thead>\n",
       "  <tbody>\n",
       "    <tr>\n",
       "      <td>0</td>\n",
       "      <td>the</td>\n",
       "      <td>4986</td>\n",
       "    </tr>\n",
       "    <tr>\n",
       "      <td>1</td>\n",
       "      <td>,</td>\n",
       "      <td>4376</td>\n",
       "    </tr>\n",
       "  </tbody>\n",
       "</table>\n",
       "</div>"
      ],
      "text/plain": [
       "  target  count\n",
       "0    the   4986\n",
       "1      ,   4376"
      ]
     },
     "execution_count": 15,
     "metadata": {},
     "output_type": "execute_result"
    }
   ],
   "source": [
    "master_unique.head(2)"
   ]
  },
  {
   "cell_type": "code",
   "execution_count": 16,
   "metadata": {},
   "outputs": [],
   "source": [
    "#creating new dataframe that includes word counts\n",
    "\n",
    "new_master = pd.merge(full_text, master_unique, on = 'target')"
   ]
  },
  {
   "cell_type": "code",
   "execution_count": 17,
   "metadata": {},
   "outputs": [
    {
     "data": {
      "image/png": "[encoded data removed]",
      "text/plain": [
       "<Figure size 432x288 with 1 Axes>"
      ]
     },
     "metadata": {},
     "output_type": "display_data"
    }
   ],
   "source": [
    "sns.set_style('darkgrid')\n",
    "new_master.hist()\n",
    "plt.show()"
   ]
  },
  {
   "cell_type": "code",
   "execution_count": 75,
   "metadata": {},
   "outputs": [],
   "source": [
    "master_targets = new_master[new_master['count'] > 100]"
   ]
  },
  {
   "cell_type": "code",
   "execution_count": 51,
   "metadata": {},
   "outputs": [],
   "source": [
    "#remove_from_model = master_targets[master_targets['count'] < 100]"
   ]
  },
  {
   "cell_type": "code",
   "execution_count": 76,
   "metadata": {},
   "outputs": [],
   "source": [
    "text_words2 = list(master_targets['target'].unique())"
   ]
  },
  {
   "cell_type": "code",
   "execution_count": 77,
   "metadata": {},
   "outputs": [
    {
     "data": {
      "text/plain": [
       "['a',\n",
       " 'of',\n",
       " 'on',\n",
       " 'the',\n",
       " ',',\n",
       " 'for',\n",
       " '.',\n",
       " 'A',\n",
       " 'to',\n",
       " 'Mr.',\n",
       " 'from',\n",
       " 'more',\n",
       " 'is',\n",
       " 'be',\n",
       " 'made',\n",
       " 'at',\n",
       " 'has',\n",
       " 'and',\n",
       " 'he',\n",
       " 'by',\n",
       " 'they',\n",
       " 'may',\n",
       " 'some',\n",
       " 'are',\n",
       " 'will',\n",
       " 'that',\n",
       " 'as',\n",
       " 'which',\n",
       " 'into',\n",
       " 'not',\n",
       " 'He',\n",
       " 'would',\n",
       " '\"',\n",
       " 'up',\n",
       " 'an',\n",
       " 'have',\n",
       " 'been',\n",
       " 'but',\n",
       " 'it',\n",
       " 'two',\n",
       " '(',\n",
       " 'in',\n",
       " ':',\n",
       " 'what',\n",
       " 'if',\n",
       " 'his',\n",
       " 'with',\n",
       " 'had',\n",
       " 'them',\n",
       " 'The',\n",
       " 'there',\n",
       " '-',\n",
       " 'But',\n",
       " 'I',\n",
       " 'no',\n",
       " 'said',\n",
       " 'was',\n",
       " 'were',\n",
       " 'It',\n",
       " 'about',\n",
       " 'can',\n",
       " 'over',\n",
       " 'who',\n",
       " 'out',\n",
       " 'this',\n",
       " 'than',\n",
       " 'their',\n",
       " 'or',\n",
       " 'so',\n",
       " 'new',\n",
       " 'This',\n",
       " ';',\n",
       " 'other',\n",
       " 'first',\n",
       " 'one',\n",
       " 'all',\n",
       " 'when',\n",
       " 'In',\n",
       " 'much',\n",
       " 'could',\n",
       " 'being',\n",
       " 'time',\n",
       " 'man',\n",
       " 'we',\n",
       " 'him',\n",
       " '?',\n",
       " 'you',\n",
       " \"'\",\n",
       " 'very',\n",
       " 'its',\n",
       " 'like',\n",
       " 'she',\n",
       " 'only',\n",
       " '!',\n",
       " 'her',\n",
       " '...',\n",
       " 'me']"
      ]
     },
     "execution_count": 77,
     "metadata": {},
     "output_type": "execute_result"
    }
   ],
   "source": [
    "text_words2"
   ]
  },
  {
   "cell_type": "code",
   "execution_count": 37,
   "metadata": {},
   "outputs": [
    {
     "data": {
      "text/html": [
       "<div>\n",
       "<style scoped>\n",
       "    .dataframe tbody tr th:only-of-type {\n",
       "        vertical-align: middle;\n",
       "    }\n",
       "\n",
       "    .dataframe tbody tr th {\n",
       "        vertical-align: top;\n",
       "    }\n",
       "\n",
       "    .dataframe thead th {\n",
       "        text-align: right;\n",
       "    }\n",
       "</style>\n",
       "<table border=\"1\" class=\"dataframe\">\n",
       "  <thead>\n",
       "    <tr style=\"text-align: right;\">\n",
       "      <th></th>\n",
       "      <th>image</th>\n",
       "      <th>status_code</th>\n",
       "      <th>target</th>\n",
       "      <th>count</th>\n",
       "    </tr>\n",
       "  </thead>\n",
       "  <tbody>\n",
       "    <tr>\n",
       "      <td>90115</td>\n",
       "      <td>g06-047r-01-03</td>\n",
       "      <td>ok</td>\n",
       "      <td>Anglesey</td>\n",
       "      <td>81</td>\n",
       "    </tr>\n",
       "    <tr>\n",
       "      <td>90116</td>\n",
       "      <td>g06-047r-06-01</td>\n",
       "      <td>ok</td>\n",
       "      <td>Anglesey</td>\n",
       "      <td>81</td>\n",
       "    </tr>\n",
       "    <tr>\n",
       "      <td>90117</td>\n",
       "      <td>g06-050a-04-01</td>\n",
       "      <td>ok</td>\n",
       "      <td>Anglesey</td>\n",
       "      <td>81</td>\n",
       "    </tr>\n",
       "    <tr>\n",
       "      <td>90118</td>\n",
       "      <td>g06-050b-04-03</td>\n",
       "      <td>ok</td>\n",
       "      <td>Anglesey</td>\n",
       "      <td>81</td>\n",
       "    </tr>\n",
       "    <tr>\n",
       "      <td>90119</td>\n",
       "      <td>g06-050c-04-03</td>\n",
       "      <td>ok</td>\n",
       "      <td>Anglesey</td>\n",
       "      <td>81</td>\n",
       "    </tr>\n",
       "    <tr>\n",
       "      <td>90120</td>\n",
       "      <td>g06-050d-04-00</td>\n",
       "      <td>ok</td>\n",
       "      <td>Anglesey</td>\n",
       "      <td>81</td>\n",
       "    </tr>\n",
       "    <tr>\n",
       "      <td>90121</td>\n",
       "      <td>g06-050e-03-05</td>\n",
       "      <td>ok</td>\n",
       "      <td>Anglesey</td>\n",
       "      <td>81</td>\n",
       "    </tr>\n",
       "    <tr>\n",
       "      <td>90122</td>\n",
       "      <td>g06-050f-03-01</td>\n",
       "      <td>ok</td>\n",
       "      <td>Anglesey</td>\n",
       "      <td>81</td>\n",
       "    </tr>\n",
       "    <tr>\n",
       "      <td>90123</td>\n",
       "      <td>g06-050g-03-04</td>\n",
       "      <td>ok</td>\n",
       "      <td>Anglesey</td>\n",
       "      <td>81</td>\n",
       "    </tr>\n",
       "    <tr>\n",
       "      <td>90124</td>\n",
       "      <td>g06-050h-03-08</td>\n",
       "      <td>ok</td>\n",
       "      <td>Anglesey</td>\n",
       "      <td>81</td>\n",
       "    </tr>\n",
       "    <tr>\n",
       "      <td>90125</td>\n",
       "      <td>g06-050i-03-06</td>\n",
       "      <td>ok</td>\n",
       "      <td>Anglesey</td>\n",
       "      <td>81</td>\n",
       "    </tr>\n",
       "    <tr>\n",
       "      <td>90126</td>\n",
       "      <td>g06-050j-04-03</td>\n",
       "      <td>ok</td>\n",
       "      <td>Anglesey</td>\n",
       "      <td>81</td>\n",
       "    </tr>\n",
       "    <tr>\n",
       "      <td>90127</td>\n",
       "      <td>g06-050k-04-05</td>\n",
       "      <td>ok</td>\n",
       "      <td>Anglesey</td>\n",
       "      <td>81</td>\n",
       "    </tr>\n",
       "    <tr>\n",
       "      <td>90128</td>\n",
       "      <td>g06-050l-04-00</td>\n",
       "      <td>ok</td>\n",
       "      <td>Anglesey</td>\n",
       "      <td>81</td>\n",
       "    </tr>\n",
       "    <tr>\n",
       "      <td>90129</td>\n",
       "      <td>g06-050m-04-05</td>\n",
       "      <td>ok</td>\n",
       "      <td>Anglesey</td>\n",
       "      <td>81</td>\n",
       "    </tr>\n",
       "    <tr>\n",
       "      <td>90130</td>\n",
       "      <td>g06-050n-05-04</td>\n",
       "      <td>ok</td>\n",
       "      <td>Anglesey</td>\n",
       "      <td>81</td>\n",
       "    </tr>\n",
       "    <tr>\n",
       "      <td>90131</td>\n",
       "      <td>g06-050o-05-00</td>\n",
       "      <td>ok</td>\n",
       "      <td>Anglesey</td>\n",
       "      <td>81</td>\n",
       "    </tr>\n",
       "    <tr>\n",
       "      <td>90132</td>\n",
       "      <td>g06-050p-03-03</td>\n",
       "      <td>ok</td>\n",
       "      <td>Anglesey</td>\n",
       "      <td>81</td>\n",
       "    </tr>\n",
       "    <tr>\n",
       "      <td>90133</td>\n",
       "      <td>g06-050r-03-08</td>\n",
       "      <td>ok</td>\n",
       "      <td>Anglesey</td>\n",
       "      <td>81</td>\n",
       "    </tr>\n",
       "    <tr>\n",
       "      <td>90134</td>\n",
       "      <td>g06-089-03-03</td>\n",
       "      <td>ok</td>\n",
       "      <td>Anglesey</td>\n",
       "      <td>81</td>\n",
       "    </tr>\n",
       "  </tbody>\n",
       "</table>\n",
       "</div>"
      ],
      "text/plain": [
       "                image status_code    target  count\n",
       "90115  g06-047r-01-03          ok  Anglesey     81\n",
       "90116  g06-047r-06-01          ok  Anglesey     81\n",
       "90117  g06-050a-04-01          ok  Anglesey     81\n",
       "90118  g06-050b-04-03          ok  Anglesey     81\n",
       "90119  g06-050c-04-03          ok  Anglesey     81\n",
       "90120  g06-050d-04-00          ok  Anglesey     81\n",
       "90121  g06-050e-03-05          ok  Anglesey     81\n",
       "90122  g06-050f-03-01          ok  Anglesey     81\n",
       "90123  g06-050g-03-04          ok  Anglesey     81\n",
       "90124  g06-050h-03-08          ok  Anglesey     81\n",
       "90125  g06-050i-03-06          ok  Anglesey     81\n",
       "90126  g06-050j-04-03          ok  Anglesey     81\n",
       "90127  g06-050k-04-05          ok  Anglesey     81\n",
       "90128  g06-050l-04-00          ok  Anglesey     81\n",
       "90129  g06-050m-04-05          ok  Anglesey     81\n",
       "90130  g06-050n-05-04          ok  Anglesey     81\n",
       "90131  g06-050o-05-00          ok  Anglesey     81\n",
       "90132  g06-050p-03-03          ok  Anglesey     81\n",
       "90133  g06-050r-03-08          ok  Anglesey     81\n",
       "90134   g06-089-03-03          ok  Anglesey     81"
      ]
     },
     "execution_count": 37,
     "metadata": {},
     "output_type": "execute_result"
    }
   ],
   "source": [
    "master_targets.tail(20)"
   ]
  },
  {
   "cell_type": "code",
   "execution_count": 28,
   "metadata": {
    "collapsed": true,
    "jupyter": {
     "outputs_hidden": true
    }
   },
   "outputs": [
    {
     "data": {
      "text/plain": [
       "array(['a', 'of', 'Labour', 'down', 'on', 'the', ',', 'for', '.', 'A',\n",
       "       'to', 'Mr.', 'from', 'any', 'more', 'life', 'is', 'be', 'made',\n",
       "       'at', 'has', 'and', 'he', 'by', 'they', 'may', 'some', 'are',\n",
       "       'will', 'that', 'as', 'Government', 'which', 'into', 'should',\n",
       "       'not', 'now', 'He', 'would', '\"', 'up', 'an', 'have', 'been', '#',\n",
       "       'still', 'but', 'it', 'two', 'get', 'Sir', '(', ')', 'in', 'last',\n",
       "       ':', 'We', 'what', 'do', 'if', 'through', 'There', 'his', 'with',\n",
       "       'went', 'had', 'them', 'The', 'there', '-', 'But', 'Minister', 'I',\n",
       "       'no', 'said', 'was', 'told', 'thought', 'found', 'were', 'They',\n",
       "       'It', 'see', 'off', 'about', 'before', 'can', 'these', 'over',\n",
       "       'did', 'German', 'good', 'And', 'who', 'out', 'this', 'than',\n",
       "       'might', 'their', 'too', 'or', 'so', 'new', 'year', 'know', 'come',\n",
       "       'This', 'men', ';', 'other', 'always', 'first', 'must', 'those',\n",
       "       'under', 'many', 'people', 'years', 'my', 'one', 'all', 'when',\n",
       "       'never', 'make', 'per', 'against', 'In', 'us', 'much', 'could',\n",
       "       'even', 'after', 'being', 'way', 'back', 'same', 'time', 'man',\n",
       "       'we', 'town', 'here', 'him', 'how', '?', 'most', 'you', \"'\",\n",
       "       'such', 'very', 'long', 'again', 'its', 'like', 'she', 'used',\n",
       "       'also', 'himself', 'only', 'well', 'little', 'go', 'great', 'our',\n",
       "       'ever', '!', 'her', 'You', 'As', '...', 'She', 'What', 'then',\n",
       "       \"'s\", 'me', 'God', 'your', 'Anglesey'], dtype=object)"
      ]
     },
     "execution_count": 28,
     "metadata": {},
     "output_type": "execute_result"
    }
   ],
   "source": [
    "master_targets['target'].unique()"
   ]
  },
  {
   "cell_type": "code",
   "execution_count": 54,
   "metadata": {},
   "outputs": [],
   "source": [
    "unique_words = list(master_targets['target'].unique())"
   ]
  },
  {
   "cell_type": "code",
   "execution_count": 55,
   "metadata": {},
   "outputs": [],
   "source": [
    "unique_words_stripped = []\n",
    "for words in unique_words:\n",
    "    if words.isalnum() == True:\n",
    "        unique_words_stripped.append(words)"
   ]
  },
  {
   "cell_type": "code",
   "execution_count": 56,
   "metadata": {},
   "outputs": [
    {
     "data": {
      "text/plain": [
       "85"
      ]
     },
     "execution_count": 56,
     "metadata": {},
     "output_type": "execute_result"
    }
   ],
   "source": [
    "len(unique_words_stripped)"
   ]
  },
  {
   "cell_type": "code",
   "execution_count": 57,
   "metadata": {
    "collapsed": true,
    "jupyter": {
     "outputs_hidden": true
    }
   },
   "outputs": [
    {
     "data": {
      "text/plain": [
       "['a',\n",
       " 'of',\n",
       " 'on',\n",
       " 'the',\n",
       " 'for',\n",
       " 'A',\n",
       " 'to',\n",
       " 'from',\n",
       " 'more',\n",
       " 'is',\n",
       " 'be',\n",
       " 'made',\n",
       " 'at',\n",
       " 'has',\n",
       " 'and',\n",
       " 'he',\n",
       " 'by',\n",
       " 'they',\n",
       " 'may',\n",
       " 'some',\n",
       " 'are',\n",
       " 'will',\n",
       " 'that',\n",
       " 'as',\n",
       " 'which',\n",
       " 'into',\n",
       " 'not',\n",
       " 'He',\n",
       " 'would',\n",
       " 'up',\n",
       " 'an',\n",
       " 'have',\n",
       " 'been',\n",
       " 'but',\n",
       " 'it',\n",
       " 'two',\n",
       " 'in',\n",
       " 'what',\n",
       " 'if',\n",
       " 'his',\n",
       " 'with',\n",
       " 'had',\n",
       " 'them',\n",
       " 'The',\n",
       " 'there',\n",
       " 'But',\n",
       " 'I',\n",
       " 'no',\n",
       " 'said',\n",
       " 'was',\n",
       " 'were',\n",
       " 'It',\n",
       " 'about',\n",
       " 'can',\n",
       " 'over',\n",
       " 'who',\n",
       " 'out',\n",
       " 'this',\n",
       " 'than',\n",
       " 'their',\n",
       " 'or',\n",
       " 'so',\n",
       " 'new',\n",
       " 'This',\n",
       " 'other',\n",
       " 'first',\n",
       " 'one',\n",
       " 'all',\n",
       " 'when',\n",
       " 'In',\n",
       " 'much',\n",
       " 'could',\n",
       " 'being',\n",
       " 'time',\n",
       " 'man',\n",
       " 'we',\n",
       " 'him',\n",
       " 'you',\n",
       " 'very',\n",
       " 'its',\n",
       " 'like',\n",
       " 'she',\n",
       " 'only',\n",
       " 'her',\n",
       " 'me']"
      ]
     },
     "execution_count": 57,
     "metadata": {},
     "output_type": "execute_result"
    }
   ],
   "source": [
    "unique_words_stripped"
   ]
  },
  {
   "cell_type": "code",
   "execution_count": 40,
   "metadata": {},
   "outputs": [
    {
     "data": {
      "image/png": "[encoded data removed]",
      "text/plain": [
       "<Figure size 432x288 with 1 Axes>"
      ]
     },
     "metadata": {},
     "output_type": "display_data"
    }
   ],
   "source": [
    "#observing distribution of classes(word images) with greater than 50 files\n",
    "\n",
    "master_targets['count'].hist()\n",
    "plt.show()"
   ]
  },
  {
   "cell_type": "code",
   "execution_count": 22,
   "metadata": {},
   "outputs": [
    {
     "data": {
      "text/html": [
       "<div>\n",
       "<style scoped>\n",
       "    .dataframe tbody tr th:only-of-type {\n",
       "        vertical-align: middle;\n",
       "    }\n",
       "\n",
       "    .dataframe tbody tr th {\n",
       "        vertical-align: top;\n",
       "    }\n",
       "\n",
       "    .dataframe thead th {\n",
       "        text-align: right;\n",
       "    }\n",
       "</style>\n",
       "<table border=\"1\" class=\"dataframe\">\n",
       "  <thead>\n",
       "    <tr style=\"text-align: right;\">\n",
       "      <th></th>\n",
       "      <th>count</th>\n",
       "    </tr>\n",
       "  </thead>\n",
       "  <tbody>\n",
       "    <tr>\n",
       "      <td>count</td>\n",
       "      <td>55450.000000</td>\n",
       "    </tr>\n",
       "    <tr>\n",
       "      <td>mean</td>\n",
       "      <td>1734.812227</td>\n",
       "    </tr>\n",
       "    <tr>\n",
       "      <td>std</td>\n",
       "      <td>1747.939724</td>\n",
       "    </tr>\n",
       "    <tr>\n",
       "      <td>min</td>\n",
       "      <td>51.000000</td>\n",
       "    </tr>\n",
       "    <tr>\n",
       "      <td>25%</td>\n",
       "      <td>231.000000</td>\n",
       "    </tr>\n",
       "    <tr>\n",
       "      <td>50%</td>\n",
       "      <td>820.000000</td>\n",
       "    </tr>\n",
       "    <tr>\n",
       "      <td>75%</td>\n",
       "      <td>2741.000000</td>\n",
       "    </tr>\n",
       "    <tr>\n",
       "      <td>max</td>\n",
       "      <td>4986.000000</td>\n",
       "    </tr>\n",
       "  </tbody>\n",
       "</table>\n",
       "</div>"
      ],
      "text/plain": [
       "              count\n",
       "count  55450.000000\n",
       "mean    1734.812227\n",
       "std     1747.939724\n",
       "min       51.000000\n",
       "25%      231.000000\n",
       "50%      820.000000\n",
       "75%     2741.000000\n",
       "max     4986.000000"
      ]
     },
     "execution_count": 22,
     "metadata": {},
     "output_type": "execute_result"
    }
   ],
   "source": [
    "master_targets.describe()"
   ]
  },
  {
   "cell_type": "code",
   "execution_count": 41,
   "metadata": {},
   "outputs": [],
   "source": [
    "#sort dataframe values by count frequency\n",
    "\n",
    "master_targets = master_targets.sort_values('count', ascending = False)"
   ]
  },
  {
   "cell_type": "code",
   "execution_count": 38,
   "metadata": {},
   "outputs": [
    {
     "data": {
      "text/html": [
       "<div>\n",
       "<style scoped>\n",
       "    .dataframe tbody tr th:only-of-type {\n",
       "        vertical-align: middle;\n",
       "    }\n",
       "\n",
       "    .dataframe tbody tr th {\n",
       "        vertical-align: top;\n",
       "    }\n",
       "\n",
       "    .dataframe thead th {\n",
       "        text-align: right;\n",
       "    }\n",
       "</style>\n",
       "<table border=\"1\" class=\"dataframe\">\n",
       "  <thead>\n",
       "    <tr style=\"text-align: right;\">\n",
       "      <th></th>\n",
       "      <th>image</th>\n",
       "      <th>status_code</th>\n",
       "      <th>target</th>\n",
       "      <th>count</th>\n",
       "    </tr>\n",
       "  </thead>\n",
       "  <tbody>\n",
       "    <tr>\n",
       "      <td>0</td>\n",
       "      <td>a01-000u-02-05</td>\n",
       "      <td>ok</td>\n",
       "      <td>a</td>\n",
       "      <td>1950</td>\n",
       "    </tr>\n",
       "    <tr>\n",
       "      <td>1</td>\n",
       "      <td>a01-000u-04-02</td>\n",
       "      <td>ok</td>\n",
       "      <td>a</td>\n",
       "      <td>1950</td>\n",
       "    </tr>\n",
       "    <tr>\n",
       "      <td>2</td>\n",
       "      <td>a01-000x-01-10</td>\n",
       "      <td>ok</td>\n",
       "      <td>a</td>\n",
       "      <td>1950</td>\n",
       "    </tr>\n",
       "    <tr>\n",
       "      <td>3</td>\n",
       "      <td>a01-000x-03-04</td>\n",
       "      <td>ok</td>\n",
       "      <td>a</td>\n",
       "      <td>1950</td>\n",
       "    </tr>\n",
       "    <tr>\n",
       "      <td>4</td>\n",
       "      <td>a01-003-00-08</td>\n",
       "      <td>ok</td>\n",
       "      <td>a</td>\n",
       "      <td>1950</td>\n",
       "    </tr>\n",
       "  </tbody>\n",
       "</table>\n",
       "</div>"
      ],
      "text/plain": [
       "            image status_code target  count\n",
       "0  a01-000u-02-05          ok      a   1950\n",
       "1  a01-000u-04-02          ok      a   1950\n",
       "2  a01-000x-01-10          ok      a   1950\n",
       "3  a01-000x-03-04          ok      a   1950\n",
       "4   a01-003-00-08          ok      a   1950"
      ]
     },
     "execution_count": 38,
     "metadata": {},
     "output_type": "execute_result"
    }
   ],
   "source": [
    "master_targets.head()"
   ]
  },
  {
   "cell_type": "markdown",
   "metadata": {},
   "source": [
    "## Remove unwanted punctuation"
   ]
  },
  {
   "cell_type": "code",
   "execution_count": 78,
   "metadata": {},
   "outputs": [],
   "source": [
    "remove_comma = master_targets[master_targets['target'] == ','].index\n",
    "remove_period = master_targets[master_targets['target'] == '.'].index\n",
    "remove_quote = master_targets[master_targets['target'] == '\"'].index\n",
    "remove_single_quote = master_targets[master_targets['target'] == \"'\"].index\n",
    "\n",
    "master_targets.drop(remove_comma, inplace = True)\n",
    "master_targets.drop(remove_period, inplace = True)\n",
    "master_targets.drop(remove_quote, inplace = True)\n",
    "master_targets.drop(remove_single_quote, inplace = True)"
   ]
  },
  {
   "cell_type": "code",
   "execution_count": 40,
   "metadata": {},
   "outputs": [
    {
     "data": {
      "image/png": "[encoded data removed]",
      "text/plain": [
       "<Figure size 1728x864 with 1 Axes>"
      ]
     },
     "metadata": {},
     "output_type": "display_data"
    }
   ],
   "source": [
    "fig, ax = plt.subplots(figsize = (24,12))\n",
    "\n",
    "sns.set(style = 'darkgrid')\n",
    "\n",
    "\n",
    "plt.bar(master_targets['target'].unique()[:70], master_targets['count'].unique()[:70], color = 'lightgreen')\n",
    "plt.xlabel('Word', fontsize = 12)\n",
    "plt.ylabel('Count', fontsize = 12)\n",
    "\n",
    "#plt.savefig('train_top10.png', bbox_inches = 'tight')\n",
    "plt.show()"
   ]
  },
  {
   "cell_type": "markdown",
   "metadata": {},
   "source": [
    "## Removing excessive samples of frequently occuring words"
   ]
  },
  {
   "cell_type": "code",
   "execution_count": 79,
   "metadata": {},
   "outputs": [],
   "source": [
    "the = master_targets[master_targets['target'] == 'the'].sample(n = 4800, random_state = 1).index\n",
    "of = master_targets[master_targets['target'] == 'of'].sample(n = 2300, random_state = 1).index\n",
    "to = master_targets[master_targets['target'] == 'to'].sample(n = 2000, random_state = 1).index\n",
    "_and = master_targets[master_targets['target'] == 'and'].sample(n = 1700, random_state = 1).index\n",
    "_a = master_targets[master_targets['target'] == 'a'].sample(n = 1800, random_state = 1).index\n",
    "_in = master_targets[master_targets['target'] == 'in'].sample(n = 1100, random_state = 1).index\n",
    "_is = master_targets[master_targets['target'] == 'is'].sample(n = 400, random_state = 1).index\n",
    "_he = master_targets[master_targets['target'] == 'he'].sample(n = 400, random_state = 1).index\n",
    "_for = master_targets[master_targets['target'] == 'for'].sample(n = 200, random_state = 1).index\n",
    "was = master_targets[master_targets['target'] == 'was'].sample(n = 600, random_state = 1).index\n",
    "had = master_targets[master_targets['target'] == 'had'].sample(n = 200, random_state = 1).index\n",
    "be = master_targets[master_targets['target'] == 'be'].sample(n = 200, random_state = 1).index\n",
    "_with = master_targets[master_targets['target'] == 'with'].sample(n = 200, random_state = 1).index\n",
    "_as = master_targets[master_targets['target'] == 'as'].sample(n = 200, random_state = 1).index\n",
    "_i = master_targets[master_targets['target'] == 'I'].sample(n = 200, random_state = 1).index\n",
    "his = master_targets[master_targets['target'] == 'his'].sample(n = 200, random_state = 1).index\n",
    "_on = master_targets[master_targets['target'] == 'on'].sample(n = 200, random_state = 1).index\n",
    "_that = master_targets[master_targets['target'] == 'that'].sample(n = 400, random_state = 1).index\n"
   ]
  },
  {
   "cell_type": "code",
   "execution_count": 80,
   "metadata": {},
   "outputs": [],
   "source": [
    "master_targets.drop(the, inplace = True)\n",
    "master_targets.drop(of, inplace = True)\n",
    "master_targets.drop(to, inplace = True)\n",
    "master_targets.drop(_and, inplace = True)\n",
    "master_targets.drop(_a, inplace = True)\n",
    "master_targets.drop(_in, inplace = True)\n",
    "\n",
    "#second round after further plotting and analyzing balance\n",
    "\n",
    "master_targets.drop(_is, inplace = True)\n",
    "master_targets.drop(_he, inplace = True)\n",
    "master_targets.drop(_for, inplace = True)\n",
    "master_targets.drop(was, inplace = True)\n",
    "master_targets.drop(had, inplace = True)\n",
    "master_targets.drop(be, inplace = True)\n",
    "master_targets.drop(_with, inplace = True)\n",
    "master_targets.drop(_as, inplace = True)\n",
    "#master_targets.drop(_i, inplace = True)\n",
    "master_targets.drop(his, inplace = True)\n",
    "master_targets.drop(_on, inplace = True)\n",
    "master_targets.drop(_that, inplace = True)\n"
   ]
  },
  {
   "cell_type": "markdown",
   "metadata": {},
   "source": [
    "## Recalculate value counts"
   ]
  },
  {
   "cell_type": "code",
   "execution_count": 43,
   "metadata": {},
   "outputs": [],
   "source": [
    "trimmed_targets = get_unique_targets(master_targets)"
   ]
  },
  {
   "cell_type": "markdown",
   "metadata": {},
   "source": [
    "View the results"
   ]
  },
  {
   "cell_type": "code",
   "execution_count": 72,
   "metadata": {},
   "outputs": [
    {
     "data": {
      "image/png": "[encoded data removed]",
      "text/plain": [
       "<Figure size 1728x864 with 1 Axes>"
      ]
     },
     "metadata": {},
     "output_type": "display_data"
    }
   ],
   "source": [
    "fig, ax = plt.subplots(figsize = (24,12))\n",
    "\n",
    "sns.set(style = 'darkgrid')\n",
    "\n",
    "\n",
    "plt.bar(trimmed_targets['target'].unique()[:60], trimmed_targets['count'].unique()[:60], color = 'lightgreen')\n",
    "plt.xlabel('Word', fontsize = 12)\n",
    "plt.ylabel('Count', fontsize = 12)\n",
    "\n",
    "#plt.savefig('train_top10.png', bbox_inches = 'tight')\n",
    "plt.show()"
   ]
  },
  {
   "cell_type": "code",
   "execution_count": 121,
   "metadata": {},
   "outputs": [
    {
     "data": {
      "text/plain": [
       "(35435, 4)"
      ]
     },
     "execution_count": 121,
     "metadata": {},
     "output_type": "execute_result"
    }
   ],
   "source": [
    "master_targets.shape"
   ]
  },
  {
   "cell_type": "code",
   "execution_count": 154,
   "metadata": {},
   "outputs": [
    {
     "data": {
      "text/html": [
       "<div>\n",
       "<style scoped>\n",
       "    .dataframe tbody tr th:only-of-type {\n",
       "        vertical-align: middle;\n",
       "    }\n",
       "\n",
       "    .dataframe tbody tr th {\n",
       "        vertical-align: top;\n",
       "    }\n",
       "\n",
       "    .dataframe thead th {\n",
       "        text-align: right;\n",
       "    }\n",
       "</style>\n",
       "<table border=\"1\" class=\"dataframe\">\n",
       "  <thead>\n",
       "    <tr style=\"text-align: right;\">\n",
       "      <th></th>\n",
       "      <th>image</th>\n",
       "      <th>status_code</th>\n",
       "      <th>target</th>\n",
       "      <th>count</th>\n",
       "    </tr>\n",
       "  </thead>\n",
       "  <tbody>\n",
       "    <tr>\n",
       "      <td>44822</td>\n",
       "      <td>n04-000-02-04</td>\n",
       "      <td>ok</td>\n",
       "      <td>I</td>\n",
       "      <td>598</td>\n",
       "    </tr>\n",
       "    <tr>\n",
       "      <td>44820</td>\n",
       "      <td>n03-113-07-03</td>\n",
       "      <td>ok</td>\n",
       "      <td>I</td>\n",
       "      <td>598</td>\n",
       "    </tr>\n",
       "    <tr>\n",
       "      <td>44821</td>\n",
       "      <td>n04-000-01-11</td>\n",
       "      <td>ok</td>\n",
       "      <td>I</td>\n",
       "      <td>598</td>\n",
       "    </tr>\n",
       "    <tr>\n",
       "      <td>44963</td>\n",
       "      <td>r06-143-03-00</td>\n",
       "      <td>ok</td>\n",
       "      <td>I</td>\n",
       "      <td>598</td>\n",
       "    </tr>\n",
       "    <tr>\n",
       "      <td>44964</td>\n",
       "      <td>r06-143-03-02</td>\n",
       "      <td>ok</td>\n",
       "      <td>I</td>\n",
       "      <td>598</td>\n",
       "    </tr>\n",
       "    <tr>\n",
       "      <td>...</td>\n",
       "      <td>...</td>\n",
       "      <td>...</td>\n",
       "      <td>...</td>\n",
       "      <td>...</td>\n",
       "    </tr>\n",
       "    <tr>\n",
       "      <td>44499</td>\n",
       "      <td>g06-018d-06-08</td>\n",
       "      <td>ok</td>\n",
       "      <td>I</td>\n",
       "      <td>598</td>\n",
       "    </tr>\n",
       "    <tr>\n",
       "      <td>44498</td>\n",
       "      <td>g06-018c-06-06</td>\n",
       "      <td>ok</td>\n",
       "      <td>I</td>\n",
       "      <td>598</td>\n",
       "    </tr>\n",
       "    <tr>\n",
       "      <td>44497</td>\n",
       "      <td>g06-018b-09-01</td>\n",
       "      <td>ok</td>\n",
       "      <td>I</td>\n",
       "      <td>598</td>\n",
       "    </tr>\n",
       "    <tr>\n",
       "      <td>44775</td>\n",
       "      <td>m03-020-00-01</td>\n",
       "      <td>ok</td>\n",
       "      <td>I</td>\n",
       "      <td>598</td>\n",
       "    </tr>\n",
       "    <tr>\n",
       "      <td>44735</td>\n",
       "      <td>l04-147-04-06</td>\n",
       "      <td>ok</td>\n",
       "      <td>I</td>\n",
       "      <td>598</td>\n",
       "    </tr>\n",
       "  </tbody>\n",
       "</table>\n",
       "<p>598 rows × 4 columns</p>\n",
       "</div>"
      ],
      "text/plain": [
       "                image status_code target  count\n",
       "44822   n04-000-02-04          ok      I    598\n",
       "44820   n03-113-07-03          ok      I    598\n",
       "44821   n04-000-01-11          ok      I    598\n",
       "44963   r06-143-03-00          ok      I    598\n",
       "44964   r06-143-03-02          ok      I    598\n",
       "...               ...         ...    ...    ...\n",
       "44499  g06-018d-06-08          ok      I    598\n",
       "44498  g06-018c-06-06          ok      I    598\n",
       "44497  g06-018b-09-01          ok      I    598\n",
       "44775   m03-020-00-01          ok      I    598\n",
       "44735   l04-147-04-06          ok      I    598\n",
       "\n",
       "[598 rows x 4 columns]"
      ]
     },
     "execution_count": 154,
     "metadata": {},
     "output_type": "execute_result"
    }
   ],
   "source": [
    "master_targets[master_targets['target'] == 'I']"
   ]
  },
  {
   "cell_type": "markdown",
   "metadata": {},
   "source": [
    "## Remove more samples to further balance classes"
   ]
  },
  {
   "cell_type": "code",
   "execution_count": 122,
   "metadata": {},
   "outputs": [],
   "source": [
    "# the = master_targets[master_targets['target'] == 'the'].sample(n = 600, random_state = 1).index\n",
    "# of = master_targets[master_targets['target'] == 'of'].sample(n = 600, random_state = 1).index\n",
    "# to = master_targets[master_targets['target'] == 'to'].sample(n = 600, random_state = 1).index\n",
    "# _and = master_targets[master_targets['target'] == 'and'].sample(n = 600, random_state = 1).index\n",
    "# _a = master_targets[master_targets['target'] == 'a'].sample(n = 400, random_state = 1).index\n",
    "# _in = master_targets[master_targets['target'] == 'in'].sample(n = 400, random_state = 1).index\n",
    "# _is = master_targets[master_targets['target'] == 'is'].sample(n = 400, random_state = 1).index\n",
    "# _he = master_targets[master_targets['target'] == 'he'].sample(n = 400, random_state = 1).index\n",
    "# _for = master_targets[master_targets['target'] == 'for'].sample(n = 200, random_state = 1).index"
   ]
  },
  {
   "cell_type": "code",
   "execution_count": 123,
   "metadata": {},
   "outputs": [],
   "source": [
    "# master_targets.drop(the, inplace = True)\n",
    "# master_targets.drop(of, inplace = True)\n",
    "# master_targets.drop(to, inplace = True)\n",
    "# master_targets.drop(_and, inplace = True)\n",
    "# master_targets.drop(_a, inplace = True)\n",
    "# master_targets.drop(_in, inplace = True)\n",
    "# master_targets.drop(_is, inplace = True)\n",
    "# master_targets.drop(_he, inplace = True)\n",
    "# master_targets.drop(_for, inplace = True)"
   ]
  },
  {
   "cell_type": "code",
   "execution_count": 167,
   "metadata": {},
   "outputs": [],
   "source": [
    "further_trimmed_targets = get_unique_targets(master_targets)"
   ]
  },
  {
   "cell_type": "code",
   "execution_count": 168,
   "metadata": {
    "collapsed": true,
    "jupyter": {
     "outputs_hidden": true
    }
   },
   "outputs": [
    {
     "ename": "ValueError",
     "evalue": "shape mismatch: objects cannot be broadcast to a single shape",
     "output_type": "error",
     "traceback": [
      "\u001b[0;31m---------------------------------------------------------------------------\u001b[0m",
      "\u001b[0;31mValueError\u001b[0m                                Traceback (most recent call last)",
      "\u001b[0;32m<ipython-input-168-5ea4b91004fa>\u001b[0m in \u001b[0;36m<module>\u001b[0;34m\u001b[0m\n\u001b[1;32m      4\u001b[0m \u001b[0;34m\u001b[0m\u001b[0m\n\u001b[1;32m      5\u001b[0m \u001b[0;34m\u001b[0m\u001b[0m\n\u001b[0;32m----> 6\u001b[0;31m \u001b[0mplt\u001b[0m\u001b[0;34m.\u001b[0m\u001b[0mbar\u001b[0m\u001b[0;34m(\u001b[0m\u001b[0mfurther_trimmed_targets\u001b[0m\u001b[0;34m[\u001b[0m\u001b[0;34m'target'\u001b[0m\u001b[0;34m]\u001b[0m\u001b[0;34m.\u001b[0m\u001b[0munique\u001b[0m\u001b[0;34m(\u001b[0m\u001b[0;34m)\u001b[0m\u001b[0;34m[\u001b[0m\u001b[0;34m:\u001b[0m\u001b[0;36m100\u001b[0m\u001b[0;34m]\u001b[0m\u001b[0;34m,\u001b[0m \u001b[0mfurther_trimmed_targets\u001b[0m\u001b[0;34m[\u001b[0m\u001b[0;34m'count'\u001b[0m\u001b[0;34m]\u001b[0m\u001b[0;34m.\u001b[0m\u001b[0munique\u001b[0m\u001b[0;34m(\u001b[0m\u001b[0;34m)\u001b[0m\u001b[0;34m[\u001b[0m\u001b[0;34m:\u001b[0m\u001b[0;36m10\u001b[0m\u001b[0;34m]\u001b[0m\u001b[0;34m,\u001b[0m \u001b[0mcolor\u001b[0m \u001b[0;34m=\u001b[0m \u001b[0;34m'lightgreen'\u001b[0m\u001b[0;34m)\u001b[0m\u001b[0;34m\u001b[0m\u001b[0;34m\u001b[0m\u001b[0m\n\u001b[0m\u001b[1;32m      7\u001b[0m \u001b[0mplt\u001b[0m\u001b[0;34m.\u001b[0m\u001b[0mxlabel\u001b[0m\u001b[0;34m(\u001b[0m\u001b[0;34m'Word'\u001b[0m\u001b[0;34m,\u001b[0m \u001b[0mfontsize\u001b[0m \u001b[0;34m=\u001b[0m \u001b[0;36m12\u001b[0m\u001b[0;34m)\u001b[0m\u001b[0;34m\u001b[0m\u001b[0;34m\u001b[0m\u001b[0m\n\u001b[1;32m      8\u001b[0m \u001b[0mplt\u001b[0m\u001b[0;34m.\u001b[0m\u001b[0mylabel\u001b[0m\u001b[0;34m(\u001b[0m\u001b[0;34m'Count'\u001b[0m\u001b[0;34m,\u001b[0m \u001b[0mfontsize\u001b[0m \u001b[0;34m=\u001b[0m \u001b[0;36m12\u001b[0m\u001b[0;34m)\u001b[0m\u001b[0;34m\u001b[0m\u001b[0;34m\u001b[0m\u001b[0m\n",
      "\u001b[0;32m/opt/anaconda3/lib/python3.7/site-packages/matplotlib/pyplot.py\u001b[0m in \u001b[0;36mbar\u001b[0;34m(x, height, width, bottom, align, data, **kwargs)\u001b[0m\n\u001b[1;32m   2438\u001b[0m     return gca().bar(\n\u001b[1;32m   2439\u001b[0m         \u001b[0mx\u001b[0m\u001b[0;34m,\u001b[0m \u001b[0mheight\u001b[0m\u001b[0;34m,\u001b[0m \u001b[0mwidth\u001b[0m\u001b[0;34m=\u001b[0m\u001b[0mwidth\u001b[0m\u001b[0;34m,\u001b[0m \u001b[0mbottom\u001b[0m\u001b[0;34m=\u001b[0m\u001b[0mbottom\u001b[0m\u001b[0;34m,\u001b[0m \u001b[0malign\u001b[0m\u001b[0;34m=\u001b[0m\u001b[0malign\u001b[0m\u001b[0;34m,\u001b[0m\u001b[0;34m\u001b[0m\u001b[0;34m\u001b[0m\u001b[0m\n\u001b[0;32m-> 2440\u001b[0;31m         **({\"data\": data} if data is not None else {}), **kwargs)\n\u001b[0m\u001b[1;32m   2441\u001b[0m \u001b[0;34m\u001b[0m\u001b[0m\n\u001b[1;32m   2442\u001b[0m \u001b[0;34m\u001b[0m\u001b[0m\n",
      "\u001b[0;32m/opt/anaconda3/lib/python3.7/site-packages/matplotlib/__init__.py\u001b[0m in \u001b[0;36minner\u001b[0;34m(ax, data, *args, **kwargs)\u001b[0m\n\u001b[1;32m   1599\u001b[0m     \u001b[0;32mdef\u001b[0m \u001b[0minner\u001b[0m\u001b[0;34m(\u001b[0m\u001b[0max\u001b[0m\u001b[0;34m,\u001b[0m \u001b[0;34m*\u001b[0m\u001b[0margs\u001b[0m\u001b[0;34m,\u001b[0m \u001b[0mdata\u001b[0m\u001b[0;34m=\u001b[0m\u001b[0;32mNone\u001b[0m\u001b[0;34m,\u001b[0m \u001b[0;34m**\u001b[0m\u001b[0mkwargs\u001b[0m\u001b[0;34m)\u001b[0m\u001b[0;34m:\u001b[0m\u001b[0;34m\u001b[0m\u001b[0;34m\u001b[0m\u001b[0m\n\u001b[1;32m   1600\u001b[0m         \u001b[0;32mif\u001b[0m \u001b[0mdata\u001b[0m \u001b[0;32mis\u001b[0m \u001b[0;32mNone\u001b[0m\u001b[0;34m:\u001b[0m\u001b[0;34m\u001b[0m\u001b[0;34m\u001b[0m\u001b[0m\n\u001b[0;32m-> 1601\u001b[0;31m             \u001b[0;32mreturn\u001b[0m \u001b[0mfunc\u001b[0m\u001b[0;34m(\u001b[0m\u001b[0max\u001b[0m\u001b[0;34m,\u001b[0m \u001b[0;34m*\u001b[0m\u001b[0mmap\u001b[0m\u001b[0;34m(\u001b[0m\u001b[0msanitize_sequence\u001b[0m\u001b[0;34m,\u001b[0m \u001b[0margs\u001b[0m\u001b[0;34m)\u001b[0m\u001b[0;34m,\u001b[0m \u001b[0;34m**\u001b[0m\u001b[0mkwargs\u001b[0m\u001b[0;34m)\u001b[0m\u001b[0;34m\u001b[0m\u001b[0;34m\u001b[0m\u001b[0m\n\u001b[0m\u001b[1;32m   1602\u001b[0m \u001b[0;34m\u001b[0m\u001b[0m\n\u001b[1;32m   1603\u001b[0m         \u001b[0mbound\u001b[0m \u001b[0;34m=\u001b[0m \u001b[0mnew_sig\u001b[0m\u001b[0;34m.\u001b[0m\u001b[0mbind\u001b[0m\u001b[0;34m(\u001b[0m\u001b[0max\u001b[0m\u001b[0;34m,\u001b[0m \u001b[0;34m*\u001b[0m\u001b[0margs\u001b[0m\u001b[0;34m,\u001b[0m \u001b[0;34m**\u001b[0m\u001b[0mkwargs\u001b[0m\u001b[0;34m)\u001b[0m\u001b[0;34m\u001b[0m\u001b[0;34m\u001b[0m\u001b[0m\n",
      "\u001b[0;32m/opt/anaconda3/lib/python3.7/site-packages/matplotlib/axes/_axes.py\u001b[0m in \u001b[0;36mbar\u001b[0;34m(self, x, height, width, bottom, align, **kwargs)\u001b[0m\n\u001b[1;32m   2373\u001b[0m         x, height, width, y, linewidth = np.broadcast_arrays(\n\u001b[1;32m   2374\u001b[0m             \u001b[0;31m# Make args iterable too.\u001b[0m\u001b[0;34m\u001b[0m\u001b[0;34m\u001b[0m\u001b[0;34m\u001b[0m\u001b[0m\n\u001b[0;32m-> 2375\u001b[0;31m             np.atleast_1d(x), height, width, y, linewidth)\n\u001b[0m\u001b[1;32m   2376\u001b[0m \u001b[0;34m\u001b[0m\u001b[0m\n\u001b[1;32m   2377\u001b[0m         \u001b[0;31m# Now that units have been converted, set the tick locations.\u001b[0m\u001b[0;34m\u001b[0m\u001b[0;34m\u001b[0m\u001b[0;34m\u001b[0m\u001b[0m\n",
      "\u001b[0;32m<__array_function__ internals>\u001b[0m in \u001b[0;36mbroadcast_arrays\u001b[0;34m(*args, **kwargs)\u001b[0m\n",
      "\u001b[0;32m/opt/anaconda3/lib/python3.7/site-packages/numpy/lib/stride_tricks.py\u001b[0m in \u001b[0;36mbroadcast_arrays\u001b[0;34m(*args, **kwargs)\u001b[0m\n\u001b[1;32m    262\u001b[0m     \u001b[0margs\u001b[0m \u001b[0;34m=\u001b[0m \u001b[0;34m[\u001b[0m\u001b[0mnp\u001b[0m\u001b[0;34m.\u001b[0m\u001b[0marray\u001b[0m\u001b[0;34m(\u001b[0m\u001b[0m_m\u001b[0m\u001b[0;34m,\u001b[0m \u001b[0mcopy\u001b[0m\u001b[0;34m=\u001b[0m\u001b[0;32mFalse\u001b[0m\u001b[0;34m,\u001b[0m \u001b[0msubok\u001b[0m\u001b[0;34m=\u001b[0m\u001b[0msubok\u001b[0m\u001b[0;34m)\u001b[0m \u001b[0;32mfor\u001b[0m \u001b[0m_m\u001b[0m \u001b[0;32min\u001b[0m \u001b[0margs\u001b[0m\u001b[0;34m]\u001b[0m\u001b[0;34m\u001b[0m\u001b[0;34m\u001b[0m\u001b[0m\n\u001b[1;32m    263\u001b[0m \u001b[0;34m\u001b[0m\u001b[0m\n\u001b[0;32m--> 264\u001b[0;31m     \u001b[0mshape\u001b[0m \u001b[0;34m=\u001b[0m \u001b[0m_broadcast_shape\u001b[0m\u001b[0;34m(\u001b[0m\u001b[0;34m*\u001b[0m\u001b[0margs\u001b[0m\u001b[0;34m)\u001b[0m\u001b[0;34m\u001b[0m\u001b[0;34m\u001b[0m\u001b[0m\n\u001b[0m\u001b[1;32m    265\u001b[0m \u001b[0;34m\u001b[0m\u001b[0m\n\u001b[1;32m    266\u001b[0m     \u001b[0;32mif\u001b[0m \u001b[0mall\u001b[0m\u001b[0;34m(\u001b[0m\u001b[0marray\u001b[0m\u001b[0;34m.\u001b[0m\u001b[0mshape\u001b[0m \u001b[0;34m==\u001b[0m \u001b[0mshape\u001b[0m \u001b[0;32mfor\u001b[0m \u001b[0marray\u001b[0m \u001b[0;32min\u001b[0m \u001b[0margs\u001b[0m\u001b[0;34m)\u001b[0m\u001b[0;34m:\u001b[0m\u001b[0;34m\u001b[0m\u001b[0;34m\u001b[0m\u001b[0m\n",
      "\u001b[0;32m/opt/anaconda3/lib/python3.7/site-packages/numpy/lib/stride_tricks.py\u001b[0m in \u001b[0;36m_broadcast_shape\u001b[0;34m(*args)\u001b[0m\n\u001b[1;32m    189\u001b[0m     \u001b[0;31m# use the old-iterator because np.nditer does not handle size 0 arrays\u001b[0m\u001b[0;34m\u001b[0m\u001b[0;34m\u001b[0m\u001b[0;34m\u001b[0m\u001b[0m\n\u001b[1;32m    190\u001b[0m     \u001b[0;31m# consistently\u001b[0m\u001b[0;34m\u001b[0m\u001b[0;34m\u001b[0m\u001b[0;34m\u001b[0m\u001b[0m\n\u001b[0;32m--> 191\u001b[0;31m     \u001b[0mb\u001b[0m \u001b[0;34m=\u001b[0m \u001b[0mnp\u001b[0m\u001b[0;34m.\u001b[0m\u001b[0mbroadcast\u001b[0m\u001b[0;34m(\u001b[0m\u001b[0;34m*\u001b[0m\u001b[0margs\u001b[0m\u001b[0;34m[\u001b[0m\u001b[0;34m:\u001b[0m\u001b[0;36m32\u001b[0m\u001b[0;34m]\u001b[0m\u001b[0;34m)\u001b[0m\u001b[0;34m\u001b[0m\u001b[0;34m\u001b[0m\u001b[0m\n\u001b[0m\u001b[1;32m    192\u001b[0m     \u001b[0;31m# unfortunately, it cannot handle 32 or more arguments directly\u001b[0m\u001b[0;34m\u001b[0m\u001b[0;34m\u001b[0m\u001b[0;34m\u001b[0m\u001b[0m\n\u001b[1;32m    193\u001b[0m     \u001b[0;32mfor\u001b[0m \u001b[0mpos\u001b[0m \u001b[0;32min\u001b[0m \u001b[0mrange\u001b[0m\u001b[0;34m(\u001b[0m\u001b[0;36m32\u001b[0m\u001b[0;34m,\u001b[0m \u001b[0mlen\u001b[0m\u001b[0;34m(\u001b[0m\u001b[0margs\u001b[0m\u001b[0;34m)\u001b[0m\u001b[0;34m,\u001b[0m \u001b[0;36m31\u001b[0m\u001b[0;34m)\u001b[0m\u001b[0;34m:\u001b[0m\u001b[0;34m\u001b[0m\u001b[0;34m\u001b[0m\u001b[0m\n",
      "\u001b[0;31mValueError\u001b[0m: shape mismatch: objects cannot be broadcast to a single shape"
     ]
    },
    {
     "data": {
      "image/png": "[encoded data removed]",
      "text/plain": [
       "<Figure size 1728x864 with 1 Axes>"
      ]
     },
     "metadata": {},
     "output_type": "display_data"
    }
   ],
   "source": [
    "fig, ax = plt.subplots(figsize = (24,12))\n",
    "\n",
    "sns.set(style = 'darkgrid')\n",
    "\n",
    "\n",
    "plt.bar(further_trimmed_targets['target'].unique()[:100], further_trimmed_targets['count'].unique()[:10], color = 'lightgreen')\n",
    "plt.xlabel('Word', fontsize = 12)\n",
    "plt.ylabel('Count', fontsize = 12)\n",
    "\n",
    "#plt.savefig('train_top10.png', bbox_inches = 'tight')\n",
    "plt.show()"
   ]
  },
  {
   "cell_type": "markdown",
   "metadata": {},
   "source": [
    "## Removing punction that will not be classified for the purposes of this model"
   ]
  },
  {
   "cell_type": "code",
   "execution_count": 81,
   "metadata": {},
   "outputs": [],
   "source": [
    "remove_comma = master_targets[master_targets['target'] == ','].index\n",
    "remove_period = master_targets[master_targets['target'] == '.'].index\n",
    "remove_quote = master_targets[master_targets['target'] == '\"'].index\n",
    "remove_single_quote = master_targets[master_targets['target'] == \"'\"].index"
   ]
  },
  {
   "cell_type": "code",
   "execution_count": 82,
   "metadata": {},
   "outputs": [],
   "source": [
    "master_targets.drop(remove_comma, inplace = True)\n",
    "master_targets.drop(remove_period, inplace = True)\n",
    "master_targets.drop(remove_quote, inplace = True)\n",
    "master_targets.drop(remove_single_quote, inplace = True)"
   ]
  },
  {
   "cell_type": "code",
   "execution_count": 83,
   "metadata": {},
   "outputs": [
    {
     "data": {
      "text/plain": [
       "(22741, 4)"
      ]
     },
     "execution_count": 83,
     "metadata": {},
     "output_type": "execute_result"
    }
   ],
   "source": [
    "master_targets.shape"
   ]
  },
  {
   "cell_type": "code",
   "execution_count": 84,
   "metadata": {},
   "outputs": [],
   "source": [
    "train, test = train_test_split(master_targets, test_size = .10)"
   ]
  },
  {
   "cell_type": "code",
   "execution_count": 85,
   "metadata": {},
   "outputs": [
    {
     "data": {
      "text/plain": [
       "(20466, 4)"
      ]
     },
     "execution_count": 85,
     "metadata": {},
     "output_type": "execute_result"
    }
   ],
   "source": [
    "train.shape"
   ]
  },
  {
   "cell_type": "code",
   "execution_count": 86,
   "metadata": {},
   "outputs": [
    {
     "data": {
      "text/plain": [
       "(2275, 4)"
      ]
     },
     "execution_count": 86,
     "metadata": {},
     "output_type": "execute_result"
    }
   ],
   "source": [
    "test.shape"
   ]
  },
  {
   "cell_type": "code",
   "execution_count": 89,
   "metadata": {},
   "outputs": [
    {
     "data": {
      "text/plain": [
       "93"
      ]
     },
     "execution_count": 89,
     "metadata": {},
     "output_type": "execute_result"
    }
   ],
   "source": [
    "len(test['target'].unique())"
   ]
  },
  {
   "cell_type": "code",
   "execution_count": 90,
   "metadata": {},
   "outputs": [
    {
     "data": {
      "text/plain": [
       "93"
      ]
     },
     "execution_count": 90,
     "metadata": {},
     "output_type": "execute_result"
    }
   ],
   "source": [
    "len(train['target'].unique())"
   ]
  },
  {
   "cell_type": "markdown",
   "metadata": {},
   "source": [
    "## Moving files to new directories with containing unique word classes"
   ]
  },
  {
   "cell_type": "code",
   "execution_count": null,
   "metadata": {},
   "outputs": [],
   "source": [
    "#iterate through list of unique words\n",
    "\n",
    "#match words to image file rows from dataframe\n",
    "\n",
    "#move all image files to desired folders containing proper class names"
   ]
  },
  {
   "cell_type": "code",
   "execution_count": 93,
   "metadata": {},
   "outputs": [
    {
     "data": {
      "text/plain": [
       "85"
      ]
     },
     "execution_count": 93,
     "metadata": {},
     "output_type": "execute_result"
    }
   ],
   "source": [
    "len(unique_words_stripped)"
   ]
  },
  {
   "cell_type": "code",
   "execution_count": 94,
   "metadata": {
    "collapsed": true,
    "jupyter": {
     "outputs_hidden": true
    }
   },
   "outputs": [
    {
     "data": {
      "text/plain": [
       "['a',\n",
       " 'of',\n",
       " 'on',\n",
       " 'the',\n",
       " 'for',\n",
       " 'A',\n",
       " 'to',\n",
       " 'from',\n",
       " 'more',\n",
       " 'is',\n",
       " 'be',\n",
       " 'made',\n",
       " 'at',\n",
       " 'has',\n",
       " 'and',\n",
       " 'he',\n",
       " 'by',\n",
       " 'they',\n",
       " 'may',\n",
       " 'some',\n",
       " 'are',\n",
       " 'will',\n",
       " 'that',\n",
       " 'as',\n",
       " 'which',\n",
       " 'into',\n",
       " 'not',\n",
       " 'He',\n",
       " 'would',\n",
       " 'up',\n",
       " 'an',\n",
       " 'have',\n",
       " 'been',\n",
       " 'but',\n",
       " 'it',\n",
       " 'two',\n",
       " 'in',\n",
       " 'what',\n",
       " 'if',\n",
       " 'his',\n",
       " 'with',\n",
       " 'had',\n",
       " 'them',\n",
       " 'The',\n",
       " 'there',\n",
       " 'But',\n",
       " 'I',\n",
       " 'no',\n",
       " 'said',\n",
       " 'was',\n",
       " 'were',\n",
       " 'It',\n",
       " 'about',\n",
       " 'can',\n",
       " 'over',\n",
       " 'who',\n",
       " 'out',\n",
       " 'this',\n",
       " 'than',\n",
       " 'their',\n",
       " 'or',\n",
       " 'so',\n",
       " 'new',\n",
       " 'This',\n",
       " 'other',\n",
       " 'first',\n",
       " 'one',\n",
       " 'all',\n",
       " 'when',\n",
       " 'In',\n",
       " 'much',\n",
       " 'could',\n",
       " 'being',\n",
       " 'time',\n",
       " 'man',\n",
       " 'we',\n",
       " 'him',\n",
       " 'you',\n",
       " 'very',\n",
       " 'its',\n",
       " 'like',\n",
       " 'she',\n",
       " 'only',\n",
       " 'her',\n",
       " 'me']"
      ]
     },
     "execution_count": 94,
     "metadata": {},
     "output_type": "execute_result"
    }
   ],
   "source": [
    "unique_words_stripped"
   ]
  },
  {
   "cell_type": "code",
   "execution_count": null,
   "metadata": {},
   "outputs": [],
   "source": [
    "unique_words_stripped, train df, new_train folder"
   ]
  },
  {
   "cell_type": "code",
   "execution_count": 60,
   "metadata": {},
   "outputs": [],
   "source": [
    "def word_to_folder(word, df, folder):\n",
    "    \"\"\"\n",
    "    Function receives target word directory, dataframe containing image names, and sub-directory within \"../text-recognition\" repo\n",
    "    \n",
    "    Image files containing word will be moved to the specified folder \n",
    "    \n",
    "    \"\"\"\n",
    "    \n",
    "    new_df = df[df['target'] == word]\n",
    "    \n",
    "    the_directories = list(new_df['image'] + '.png')\n",
    "    full_path = []\n",
    "    \n",
    "    for root, dirs, files in os.walk('full_set_words'):\n",
    "        for name in files:\n",
    "            if name in the_directories:\n",
    "                full_path.append(os.path.join(root, name))\n",
    "                \n",
    "    split_directories = []\n",
    "    \n",
    "    for lists in full_path:\n",
    "        split_directories.append(lists.split('/'))\n",
    "        \n",
    "    indexed_png = []\n",
    "    \n",
    "    for img in split_directories:\n",
    "        indexed_png.append(img[3])\n",
    "        \n",
    "    i=0\n",
    "    for x in full_path:\n",
    "        shutil.move('../text-recognition/'+f'{x}', '../text-recognition/'+folder+'/'+word+'/'+f'{indexed_png[i]}')\n",
    "        i+=1\n",
    "        "
   ]
  },
  {
   "cell_type": "code",
   "execution_count": 231,
   "metadata": {},
   "outputs": [],
   "source": [
    "# #checking that images are being placed in new directories correctly before executing full list\n",
    "\n",
    "\n",
    "# word_to_folder('a', train, 'new_train')"
   ]
  },
  {
   "cell_type": "code",
   "execution_count": 61,
   "metadata": {},
   "outputs": [],
   "source": [
    "def all_words_to_folders(list_of_words, df, folder):\n",
    "    for word in list_of_words:\n",
    "        try:\n",
    "            word_to_folder(word, df, folder)\n",
    "        except:\n",
    "            print('failed to execute')\n",
    "        "
   ]
  },
  {
   "cell_type": "code",
   "execution_count": 91,
   "metadata": {},
   "outputs": [],
   "source": [
    "all_words_to_folders(unique_words_stripped, train, '2_train_balanced')"
   ]
  },
  {
   "cell_type": "code",
   "execution_count": 92,
   "metadata": {},
   "outputs": [],
   "source": [
    "all_words_to_folders(unique_words_stripped, test, '2_test_balanced')"
   ]
  },
  {
   "cell_type": "code",
   "execution_count": null,
   "metadata": {},
   "outputs": [],
   "source": []
  }
 ],
 "metadata": {
  "kernelspec": {
   "display_name": "Python 3",
   "language": "python",
   "name": "python3"
  },
  "language_info": {
   "codemirror_mode": {
    "name": "ipython",
    "version": 3
   },
   "file_extension": ".py",
   "mimetype": "text/x-python",
   "name": "python",
   "nbconvert_exporter": "python",
   "pygments_lexer": "ipython3",
   "version": "3.7.4"
  }
 },
 "nbformat": 4,
 "nbformat_minor": 4
}
