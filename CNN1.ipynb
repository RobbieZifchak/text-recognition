{
 "cells": [
  {
   "cell_type": "code",
   "execution_count": 104,
   "metadata": {},
   "outputs": [],
   "source": [
    "import keras as ks\n",
    "#Preprocessing\n",
    "from keras.preprocessing.image import ImageDataGenerator, array_to_img, img_to_array, load_img\n",
    "from keras.preprocessing import image\n",
    "#modeling\n",
    "from keras.models import Sequential\n",
    "from keras.layers import Dense, Dropout, Activation, Flatten  \n",
    "from keras.layers import Convolution2D, MaxPooling2D\n",
    "from keras.utils import np_utils\n",
    "from sklearn.metrics import confusion_matrix, classification_report\n",
    "\n",
    "\n",
    "#local file nav\n",
    "import os\n",
    "#plotting\n",
    "import matplotlib.pyplot as plt\n",
    "import matplotlib.image as mpimg\n",
    "from matplotlib.image import imread\n",
    "import seaborn as sns\n",
    "\n",
    "import pandas as pd\n",
    "import numpy as np\n",
    "\n",
    "#from sklearn.model_selection import train_test_split\n",
    "\n",
    "from tqdm import tqdm\n",
    "\n",
    "#import tensorflow as tf\n",
    "from cv2 import imread, imshow\n",
    "\n",
    "np.set_printoptions(threshold=60)"
   ]
  },
  {
   "cell_type": "markdown",
   "metadata": {},
   "source": [
    "## Data Loading and Preprocessing"
   ]
  },
  {
   "cell_type": "code",
   "execution_count": 2,
   "metadata": {},
   "outputs": [],
   "source": [
    "train_df = pd.read_csv('train.csv')\n",
    "test_df = pd.read_csv('test.csv')\n",
    "\n",
    "validate1 = pd.read_csv('validate1.csv')"
   ]
  },
  {
   "cell_type": "code",
   "execution_count": 3,
   "metadata": {},
   "outputs": [
    {
     "data": {
      "text/plain": [
       "(1981, 4)"
      ]
     },
     "execution_count": 3,
     "metadata": {},
     "output_type": "execute_result"
    }
   ],
   "source": [
    "validate1.shape"
   ]
  },
  {
   "cell_type": "code",
   "execution_count": 4,
   "metadata": {},
   "outputs": [],
   "source": [
    "train_directory = '../text-recognition/train'\n",
    "test_directory = '../text-recognition/test'\n",
    "validate_directory = '../text-recognition/validate1'"
   ]
  },
  {
   "cell_type": "code",
   "execution_count": 5,
   "metadata": {},
   "outputs": [
    {
     "name": "stdout",
     "output_type": "stream",
     "text": [
      "Found 11295 images belonging to 56 classes.\n"
     ]
    }
   ],
   "source": [
    "train_generator = ImageDataGenerator(rescale=1./255).flow_from_directory(\n",
    "        train_directory,\n",
    "        color_mode = 'grayscale',\n",
    "        target_size=(64, 64),\n",
    "        class_mode = 'categorical', \n",
    "        batch_size=11295)"
   ]
  },
  {
   "cell_type": "code",
   "execution_count": 20,
   "metadata": {},
   "outputs": [
    {
     "name": "stdout",
     "output_type": "stream",
     "text": [
      "Found 1981 images belonging to 56 classes.\n"
     ]
    }
   ],
   "source": [
    "validate_generator = ImageDataGenerator(rescale=1./255).flow_from_directory(\n",
    "        validate_directory,\n",
    "        color_mode = 'grayscale',\n",
    "        target_size=(64, 64),\n",
    "        class_mode = 'categorical', \n",
    "        batch_size=1981)"
   ]
  },
  {
   "cell_type": "code",
   "execution_count": 7,
   "metadata": {},
   "outputs": [
    {
     "name": "stdout",
     "output_type": "stream",
     "text": [
      "Found 1443 images belonging to 56 classes.\n"
     ]
    }
   ],
   "source": [
    "test_generator =ImageDataGenerator(rescale=1./255).flow_from_directory(\n",
    "        test_directory,\n",
    "        color_mode = 'grayscale',\n",
    "        target_size=(64, 64),\n",
    "        class_mode = 'categorical', \n",
    "        batch_size=1443)"
   ]
  },
  {
   "cell_type": "code",
   "execution_count": 65,
   "metadata": {},
   "outputs": [],
   "source": [
    "# STEP_SIZE_TRAIN=train_generator.n//train_generator.batch_size\n",
    "# STEP_SIZE_VALID=valid_generator.n//valid_generator.batch_size\n",
    "# model.fit_generator(generator=train_generator,\n",
    "#                     steps_per_epoch=STEP_SIZE_TRAIN,\n",
    "#                     validation_data=valid_generator,\n",
    "#                     validation_steps=STEP_SIZE_VALID,\n",
    "#                     epochs=10"
   ]
  },
  {
   "cell_type": "code",
   "execution_count": 23,
   "metadata": {},
   "outputs": [
    {
     "data": {
      "text/plain": [
       "(64, 64, 1)"
      ]
     },
     "execution_count": 23,
     "metadata": {},
     "output_type": "execute_result"
    }
   ],
   "source": [
    "train_data[1].shape"
   ]
  },
  {
   "cell_type": "code",
   "execution_count": 8,
   "metadata": {},
   "outputs": [],
   "source": [
    "train_data, train_labels = next(train_generator)\n",
    "test_data, test_labels = next(test_generator)"
   ]
  },
  {
   "cell_type": "code",
   "execution_count": 9,
   "metadata": {},
   "outputs": [
    {
     "name": "stdout",
     "output_type": "stream",
     "text": [
      "training: (11295, 64, 64, 1)\n",
      "testing: (1443, 64, 64, 1)\n"
     ]
    }
   ],
   "source": [
    "print('training: {}'.format(train_data.shape))\n",
    "#print('training:{}'.format(validate_data.shape))\n",
    "print('testing: {}'.format(test_data.shape))"
   ]
  },
  {
   "cell_type": "code",
   "execution_count": 12,
   "metadata": {},
   "outputs": [
    {
     "name": "stdout",
     "output_type": "stream",
     "text": [
      "training labels: (11295, 56)\n",
      "testing labels: (1443, 56)\n"
     ]
    }
   ],
   "source": [
    "print('training labels: {}'.format(train_labels.shape))\n",
    "#print('validation:{}'.format(validate_data.shape))\n",
    "print('testing labels: {}'.format(test_labels.shape))\n",
    "\n"
   ]
  },
  {
   "cell_type": "code",
   "execution_count": 11,
   "metadata": {},
   "outputs": [
    {
     "data": {
      "text/plain": [
       "(1443, 56)"
      ]
     },
     "execution_count": 11,
     "metadata": {},
     "output_type": "execute_result"
    }
   ],
   "source": [
    "test_labels.shape"
   ]
  },
  {
   "cell_type": "markdown",
   "metadata": {},
   "source": [
    "## Reshaping"
   ]
  },
  {
   "cell_type": "code",
   "execution_count": 13,
   "metadata": {},
   "outputs": [],
   "source": [
    "# Reshape the train images \n",
    "train_img_unrow = train_data.reshape(11295, -1).T"
   ]
  },
  {
   "cell_type": "code",
   "execution_count": 14,
   "metadata": {},
   "outputs": [],
   "source": [
    "# Reshape the test images\n",
    "test_img_unrow = test_data.reshape(1443, -1).T"
   ]
  },
  {
   "cell_type": "code",
   "execution_count": 15,
   "metadata": {},
   "outputs": [
    {
     "name": "stdout",
     "output_type": "stream",
     "text": [
      "(4096, 11295)\n",
      "(4096, 1443)\n"
     ]
    }
   ],
   "source": [
    "print(train_img_unrow.shape)\n",
    "print(test_img_unrow.shape)"
   ]
  },
  {
   "cell_type": "code",
   "execution_count": 46,
   "metadata": {},
   "outputs": [
    {
     "data": {
      "text/plain": [
       "(11295, 64, 64, 1)"
      ]
     },
     "execution_count": 46,
     "metadata": {},
     "output_type": "execute_result"
    }
   ],
   "source": [
    "train_data.shape"
   ]
  },
  {
   "cell_type": "code",
   "execution_count": 140,
   "metadata": {},
   "outputs": [
    {
     "data": {
      "text/plain": [
       "(11295, 56)"
      ]
     },
     "execution_count": 140,
     "metadata": {},
     "output_type": "execute_result"
    }
   ],
   "source": [
    "train_labels.shape"
   ]
  },
  {
   "cell_type": "code",
   "execution_count": 19,
   "metadata": {},
   "outputs": [
    {
     "data": {
      "image/png": "[encoded data removed]",
      "text/plain": [
       "<PIL.Image.Image image mode=L size=64x64 at 0x14C19AE90>"
      ]
     },
     "execution_count": 19,
     "metadata": {},
     "output_type": "execute_result"
    }
   ],
   "source": [
    "array_to_img(train_data[2])"
   ]
  },
  {
   "cell_type": "code",
   "execution_count": 18,
   "metadata": {},
   "outputs": [
    {
     "data": {
      "text/plain": [
       "array([0., 0., 0., 0., 0., 0., 0., 0., 1., 0., 0., 0., 0., 0., 0., 0., 0.,\n",
       "       0., 0., 0., 0., 0., 0., 0., 0., 0., 0., 0., 0., 0., 0., 0., 0., 0.,\n",
       "       0., 0., 0., 0., 0., 0., 0., 0., 0., 0., 0., 0., 0., 0., 0., 0., 0.,\n",
       "       0., 0., 0., 0., 0.], dtype=float32)"
      ]
     },
     "execution_count": 18,
     "metadata": {},
     "output_type": "execute_result"
    }
   ],
   "source": [
    "train_labels[2]\n",
    "#checking that images line up with classes. "
   ]
  },
  {
   "cell_type": "code",
   "execution_count": 145,
   "metadata": {
    "collapsed": true,
    "jupyter": {
     "outputs_hidden": true
    }
   },
   "outputs": [
    {
     "data": {
      "text/plain": [
       "{'But': 0,\n",
       " 'Sir': 1,\n",
       " 'a': 2,\n",
       " 'all': 3,\n",
       " 'an': 4,\n",
       " 'and': 5,\n",
       " 'are': 6,\n",
       " 'at': 7,\n",
       " 'be': 8,\n",
       " 'been': 9,\n",
       " 'by': 10,\n",
       " 'can': 11,\n",
       " 'for': 12,\n",
       " 'from': 13,\n",
       " 'had': 14,\n",
       " 'has': 15,\n",
       " 'have': 16,\n",
       " 'her': 17,\n",
       " 'his': 18,\n",
       " 'in': 19,\n",
       " 'into': 20,\n",
       " 'is': 21,\n",
       " 'it': 22,\n",
       " 'last': 23,\n",
       " 'made': 24,\n",
       " 'more': 25,\n",
       " 'no': 26,\n",
       " 'not': 27,\n",
       " 'of': 28,\n",
       " 'on': 29,\n",
       " 'one': 30,\n",
       " 'only': 31,\n",
       " 'or': 32,\n",
       " 'our': 33,\n",
       " 'out': 34,\n",
       " 'people': 35,\n",
       " 'said': 36,\n",
       " 'should': 37,\n",
       " 'so': 38,\n",
       " 'talks': 39,\n",
       " 'than': 40,\n",
       " 'that': 41,\n",
       " 'the': 42,\n",
       " 'their': 43,\n",
       " 'them': 44,\n",
       " 'there': 45,\n",
       " 'this': 46,\n",
       " 'to': 47,\n",
       " 'was': 48,\n",
       " 'were': 49,\n",
       " 'when': 50,\n",
       " 'which': 51,\n",
       " 'who': 52,\n",
       " 'will': 53,\n",
       " 'with': 54,\n",
       " 'would': 55}"
      ]
     },
     "execution_count": 145,
     "metadata": {},
     "output_type": "execute_result"
    }
   ],
   "source": [
    "train_generator.class_indices"
   ]
  },
  {
   "cell_type": "code",
   "execution_count": null,
   "metadata": {},
   "outputs": [],
   "source": [
    "# # as first layer in a sequential model:\n",
    "# model = Sequential()\n",
    "# model.add(Dense(32, input_shape=(16,)))\n",
    "# # now the model will take as input arrays of shape (*, 16)\n",
    "# # and output arrays of shape (*, 32)\n",
    "\n",
    "# # after the first layer, you don't need to specify\n",
    "# # the size of the input anymore:\n",
    "# model.add(Dense(32))"
   ]
  },
  {
   "cell_type": "code",
   "execution_count": 21,
   "metadata": {},
   "outputs": [],
   "source": [
    "model = Sequential()\n",
    "#The first convolution\n",
    "model.add(Convolution2D(16, (3,3), activation='relu', input_shape=(64, 64, 1)))\n",
    "\n",
    "model.add(MaxPooling2D(2, 2))\n",
    "\n",
    "# The second convolution\n",
    "model.add(Convolution2D(32, (3,3), activation='relu'))\n",
    "model.add(MaxPooling2D(2,2))\n",
    "\n",
    "# The third convolution\n",
    "model.add(Convolution2D(64, (3,3), activation='relu'))\n",
    "model.add(MaxPooling2D(2,2))\n",
    "\n",
    "#The fourth convolution\n",
    "model.add(Convolution2D(64, (3,3), activation='relu'))\n",
    "model.add(MaxPooling2D(2,2))\n",
    "\n",
    "# # The fifth convolution\n",
    "# model.add(Convolution2D(64, (3,3), activation='relu'))\n",
    "# model.add(MaxPooling2D(2,2))\n",
    "\n",
    "# # # Flatten the results to feed into a dense layer\n",
    "model.add(Flatten())\n",
    "          \n",
    "# # 128 neuron in the fully-connected layer\n",
    "model.add(Dense(128, activation='relu'))\n",
    "          \n",
    "# 56 output neurons for 56 classes with the softmax activation\n",
    "model.add(Dense(56, activation='softmax'))\n"
   ]
  },
  {
   "cell_type": "code",
   "execution_count": 22,
   "metadata": {},
   "outputs": [],
   "source": [
    "#optimizer\n",
    "model.compile(loss='categorical_crossentropy',\n",
    "              optimizer= 'RMSprop',\n",
    "              metrics=['accuracy'])"
   ]
  },
  {
   "cell_type": "code",
   "execution_count": 23,
   "metadata": {},
   "outputs": [
    {
     "data": {
      "text/plain": [
       "(11295, 64, 64, 1)"
      ]
     },
     "execution_count": 23,
     "metadata": {},
     "output_type": "execute_result"
    }
   ],
   "source": [
    "train_data.shape"
   ]
  },
  {
   "cell_type": "code",
   "execution_count": 24,
   "metadata": {},
   "outputs": [
    {
     "data": {
      "text/plain": [
       "(11295, 56)"
      ]
     },
     "execution_count": 24,
     "metadata": {},
     "output_type": "execute_result"
    }
   ],
   "source": [
    "train_labels.shape"
   ]
  },
  {
   "cell_type": "code",
   "execution_count": 25,
   "metadata": {},
   "outputs": [],
   "source": [
    "x_val = train_data[:1000]\n",
    "partial_x_train = train_data[1000:]\n",
    "\n",
    "y_val = train_labels[:1000]\n",
    "partial_y_train = train_labels[1000:]"
   ]
  },
  {
   "cell_type": "code",
   "execution_count": null,
   "metadata": {},
   "outputs": [],
   "source": [
    "train_test_split"
   ]
  },
  {
   "cell_type": "code",
   "execution_count": null,
   "metadata": {},
   "outputs": [],
   "source": []
  },
  {
   "cell_type": "code",
   "execution_count": 26,
   "metadata": {
    "collapsed": true,
    "jupyter": {
     "outputs_hidden": true
    }
   },
   "outputs": [
    {
     "data": {
      "text/plain": [
       "array([[[[1.        ],\n",
       "         [1.        ],\n",
       "         [1.        ],\n",
       "         ...,\n",
       "         [1.        ],\n",
       "         [1.        ],\n",
       "         [1.        ]],\n",
       "\n",
       "        [[0.9568628 ],\n",
       "         [0.9568628 ],\n",
       "         [0.9568628 ],\n",
       "         ...,\n",
       "         [0.9568628 ],\n",
       "         [1.        ],\n",
       "         [1.        ]],\n",
       "\n",
       "        [[1.        ],\n",
       "         [1.        ],\n",
       "         [1.        ],\n",
       "         ...,\n",
       "         [0.85098046],\n",
       "         [0.9568628 ],\n",
       "         [0.9568628 ]],\n",
       "\n",
       "        ...,\n",
       "\n",
       "        [[1.        ],\n",
       "         [1.        ],\n",
       "         [1.        ],\n",
       "         ...,\n",
       "         [0.6784314 ],\n",
       "         [0.85098046],\n",
       "         [0.85098046]],\n",
       "\n",
       "        [[1.        ],\n",
       "         [1.        ],\n",
       "         [1.        ],\n",
       "         ...,\n",
       "         [0.49803925],\n",
       "         [0.6       ],\n",
       "         [0.6       ]],\n",
       "\n",
       "        [[0.9568628 ],\n",
       "         [0.9568628 ],\n",
       "         [0.9568628 ],\n",
       "         ...,\n",
       "         [0.54901963],\n",
       "         [0.73333335],\n",
       "         [0.73333335]]],\n",
       "\n",
       "\n",
       "       [[[1.        ],\n",
       "         [1.        ],\n",
       "         [1.        ],\n",
       "         ...,\n",
       "         [0.9568628 ],\n",
       "         [0.9568628 ],\n",
       "         [0.9568628 ]],\n",
       "\n",
       "        [[1.        ],\n",
       "         [1.        ],\n",
       "         [1.        ],\n",
       "         ...,\n",
       "         [0.9568628 ],\n",
       "         [0.9568628 ],\n",
       "         [0.9568628 ]],\n",
       "\n",
       "        [[1.        ],\n",
       "         [1.        ],\n",
       "         [1.        ],\n",
       "         ...,\n",
       "         [0.9568628 ],\n",
       "         [0.9568628 ],\n",
       "         [0.9568628 ]],\n",
       "\n",
       "        ...,\n",
       "\n",
       "        [[0.86274517],\n",
       "         [0.9058824 ],\n",
       "         [0.9058824 ],\n",
       "         ...,\n",
       "         [1.        ],\n",
       "         [1.        ],\n",
       "         [1.        ]],\n",
       "\n",
       "        [[0.9058824 ],\n",
       "         [0.9058824 ],\n",
       "         [0.9058824 ],\n",
       "         ...,\n",
       "         [1.        ],\n",
       "         [1.        ],\n",
       "         [1.        ]],\n",
       "\n",
       "        [[0.9058824 ],\n",
       "         [0.9058824 ],\n",
       "         [0.9058824 ],\n",
       "         ...,\n",
       "         [1.        ],\n",
       "         [1.        ],\n",
       "         [1.        ]]],\n",
       "\n",
       "\n",
       "       [[[0.7686275 ],\n",
       "         [0.5254902 ],\n",
       "         [0.61960787],\n",
       "         ...,\n",
       "         [0.9843138 ],\n",
       "         [0.9843138 ],\n",
       "         [0.9803922 ]],\n",
       "\n",
       "        [[0.5686275 ],\n",
       "         [0.37254903],\n",
       "         [0.48627454],\n",
       "         ...,\n",
       "         [0.9843138 ],\n",
       "         [0.9843138 ],\n",
       "         [0.9843138 ]],\n",
       "\n",
       "        [[0.5686275 ],\n",
       "         [0.37254903],\n",
       "         [0.48627454],\n",
       "         ...,\n",
       "         [0.9843138 ],\n",
       "         [0.9843138 ],\n",
       "         [0.9843138 ]],\n",
       "\n",
       "        ...,\n",
       "\n",
       "        [[0.9843138 ],\n",
       "         [0.9607844 ],\n",
       "         [0.9725491 ],\n",
       "         ...,\n",
       "         [0.96470594],\n",
       "         [0.96470594],\n",
       "         [0.9843138 ]],\n",
       "\n",
       "        [[0.9843138 ],\n",
       "         [0.9607844 ],\n",
       "         [0.9725491 ],\n",
       "         ...,\n",
       "         [0.96470594],\n",
       "         [0.96470594],\n",
       "         [0.9843138 ]],\n",
       "\n",
       "        [[0.9490197 ],\n",
       "         [0.95294124],\n",
       "         [0.95294124],\n",
       "         ...,\n",
       "         [0.9568628 ],\n",
       "         [0.9803922 ],\n",
       "         [0.9725491 ]]],\n",
       "\n",
       "\n",
       "       ...,\n",
       "\n",
       "\n",
       "       [[[0.9450981 ],\n",
       "         [0.95294124],\n",
       "         [0.9490197 ],\n",
       "         ...,\n",
       "         [0.95294124],\n",
       "         [0.9333334 ],\n",
       "         [0.95294124]],\n",
       "\n",
       "        [[0.93725497],\n",
       "         [0.9607844 ],\n",
       "         [0.93725497],\n",
       "         ...,\n",
       "         [0.9176471 ],\n",
       "         [0.93725497],\n",
       "         [0.9490197 ]],\n",
       "\n",
       "        [[0.9294118 ],\n",
       "         [0.9607844 ],\n",
       "         [0.94117653],\n",
       "         ...,\n",
       "         [0.9333334 ],\n",
       "         [0.9333334 ],\n",
       "         [0.9490197 ]],\n",
       "\n",
       "        ...,\n",
       "\n",
       "        [[0.34901962],\n",
       "         [0.48627454],\n",
       "         [0.8941177 ],\n",
       "         ...,\n",
       "         [0.94117653],\n",
       "         [0.9490197 ],\n",
       "         [0.96470594]],\n",
       "\n",
       "        [[0.5294118 ],\n",
       "         [0.73333335],\n",
       "         [0.909804  ],\n",
       "         ...,\n",
       "         [0.9450981 ],\n",
       "         [0.94117653],\n",
       "         [0.9686275 ]],\n",
       "\n",
       "        [[0.83921576],\n",
       "         [0.8980393 ],\n",
       "         [0.9333334 ],\n",
       "         ...,\n",
       "         [0.9333334 ],\n",
       "         [0.9333334 ],\n",
       "         [0.96470594]]],\n",
       "\n",
       "\n",
       "       [[[0.9568628 ],\n",
       "         [0.97647065],\n",
       "         [0.97647065],\n",
       "         ...,\n",
       "         [1.        ],\n",
       "         [1.        ],\n",
       "         [1.        ]],\n",
       "\n",
       "        [[0.9568628 ],\n",
       "         [0.97647065],\n",
       "         [0.97647065],\n",
       "         ...,\n",
       "         [1.        ],\n",
       "         [1.        ],\n",
       "         [1.        ]],\n",
       "\n",
       "        [[0.9607844 ],\n",
       "         [0.9803922 ],\n",
       "         [0.9686275 ],\n",
       "         ...,\n",
       "         [1.        ],\n",
       "         [1.        ],\n",
       "         [1.        ]],\n",
       "\n",
       "        ...,\n",
       "\n",
       "        [[0.95294124],\n",
       "         [0.9490197 ],\n",
       "         [0.92549026],\n",
       "         ...,\n",
       "         [0.7137255 ],\n",
       "         [0.89019614],\n",
       "         [0.94117653]],\n",
       "\n",
       "        [[1.        ],\n",
       "         [1.        ],\n",
       "         [1.        ],\n",
       "         ...,\n",
       "         [0.8941177 ],\n",
       "         [0.9176471 ],\n",
       "         [0.94117653]],\n",
       "\n",
       "        [[1.        ],\n",
       "         [1.        ],\n",
       "         [1.        ],\n",
       "         ...,\n",
       "         [0.8941177 ],\n",
       "         [0.9176471 ],\n",
       "         [0.94117653]]],\n",
       "\n",
       "\n",
       "       [[[0.9843138 ],\n",
       "         [0.9803922 ],\n",
       "         [0.9843138 ],\n",
       "         ...,\n",
       "         [1.        ],\n",
       "         [1.        ],\n",
       "         [1.        ]],\n",
       "\n",
       "        [[0.9843138 ],\n",
       "         [0.9843138 ],\n",
       "         [0.9843138 ],\n",
       "         ...,\n",
       "         [1.        ],\n",
       "         [1.        ],\n",
       "         [1.        ]],\n",
       "\n",
       "        [[0.9843138 ],\n",
       "         [0.9843138 ],\n",
       "         [0.9843138 ],\n",
       "         ...,\n",
       "         [1.        ],\n",
       "         [1.        ],\n",
       "         [1.        ]],\n",
       "\n",
       "        ...,\n",
       "\n",
       "        [[1.        ],\n",
       "         [1.        ],\n",
       "         [1.        ],\n",
       "         ...,\n",
       "         [0.1764706 ],\n",
       "         [0.27058825],\n",
       "         [0.77647066]],\n",
       "\n",
       "        [[1.        ],\n",
       "         [1.        ],\n",
       "         [1.        ],\n",
       "         ...,\n",
       "         [0.92549026],\n",
       "         [0.9176471 ],\n",
       "         [0.94117653]],\n",
       "\n",
       "        [[1.        ],\n",
       "         [1.        ],\n",
       "         [1.        ],\n",
       "         ...,\n",
       "         [0.96470594],\n",
       "         [0.9725491 ],\n",
       "         [0.9843138 ]]]], dtype=float32)"
      ]
     },
     "execution_count": 26,
     "metadata": {},
     "output_type": "execute_result"
    }
   ],
   "source": [
    "x_val"
   ]
  },
  {
   "cell_type": "code",
   "execution_count": 27,
   "metadata": {},
   "outputs": [
    {
     "name": "stdout",
     "output_type": "stream",
     "text": [
      "Train on 10295 samples, validate on 1000 samples\n",
      "Epoch 1/24\n",
      "10295/10295 [==============================] - 27s 3ms/step - loss: 2.9123 - accuracy: 0.2920 - val_loss: 2.3564 - val_accuracy: 0.4100\n",
      "Epoch 2/24\n",
      "10295/10295 [==============================] - 28s 3ms/step - loss: 1.6919 - accuracy: 0.5484 - val_loss: 1.3631 - val_accuracy: 0.6100\n",
      "Epoch 3/24\n",
      "10295/10295 [==============================] - 32s 3ms/step - loss: 1.2014 - accuracy: 0.6573 - val_loss: 1.1056 - val_accuracy: 0.6670\n",
      "Epoch 4/24\n",
      "10295/10295 [==============================] - 29s 3ms/step - loss: 0.9408 - accuracy: 0.7256 - val_loss: 0.9651 - val_accuracy: 0.7000\n",
      "Epoch 5/24\n",
      "10295/10295 [==============================] - 29s 3ms/step - loss: 0.7565 - accuracy: 0.7773 - val_loss: 0.8844 - val_accuracy: 0.7330\n",
      "Epoch 6/24\n",
      "10295/10295 [==============================] - 28s 3ms/step - loss: 0.6117 - accuracy: 0.8164 - val_loss: 1.2219 - val_accuracy: 0.6840\n",
      "Epoch 7/24\n",
      "10295/10295 [==============================] - 30s 3ms/step - loss: 0.5170 - accuracy: 0.8454 - val_loss: 0.6543 - val_accuracy: 0.8080\n",
      "Epoch 8/24\n",
      "10295/10295 [==============================] - 28s 3ms/step - loss: 0.4302 - accuracy: 0.8691 - val_loss: 1.3638 - val_accuracy: 0.6080\n",
      "Epoch 9/24\n",
      "10295/10295 [==============================] - 31s 3ms/step - loss: 0.3610 - accuracy: 0.8862 - val_loss: 0.6417 - val_accuracy: 0.8030\n",
      "Epoch 10/24\n",
      "10295/10295 [==============================] - 29s 3ms/step - loss: 0.2991 - accuracy: 0.9094 - val_loss: 0.7536 - val_accuracy: 0.7740\n",
      "Epoch 11/24\n",
      "10295/10295 [==============================] - 33s 3ms/step - loss: 0.2516 - accuracy: 0.9199 - val_loss: 0.6692 - val_accuracy: 0.8210\n",
      "Epoch 12/24\n",
      "10295/10295 [==============================] - 28s 3ms/step - loss: 0.2040 - accuracy: 0.9337 - val_loss: 0.6907 - val_accuracy: 0.8260\n",
      "Epoch 13/24\n",
      "10295/10295 [==============================] - 29s 3ms/step - loss: 0.1720 - accuracy: 0.9448 - val_loss: 0.6411 - val_accuracy: 0.8400\n",
      "Epoch 14/24\n",
      "10295/10295 [==============================] - 29s 3ms/step - loss: 0.1465 - accuracy: 0.9536 - val_loss: 0.6432 - val_accuracy: 0.8400\n",
      "Epoch 15/24\n",
      "10295/10295 [==============================] - 33s 3ms/step - loss: 0.1196 - accuracy: 0.9617 - val_loss: 0.7283 - val_accuracy: 0.8380\n",
      "Epoch 16/24\n",
      "10295/10295 [==============================] - 36s 3ms/step - loss: 0.1019 - accuracy: 0.9678 - val_loss: 0.7572 - val_accuracy: 0.8420\n",
      "Epoch 17/24\n",
      "10295/10295 [==============================] - 28s 3ms/step - loss: 0.0874 - accuracy: 0.9711 - val_loss: 0.8260 - val_accuracy: 0.8350\n",
      "Epoch 18/24\n",
      "10295/10295 [==============================] - 30s 3ms/step - loss: 0.0790 - accuracy: 0.9746 - val_loss: 0.8395 - val_accuracy: 0.8430\n",
      "Epoch 19/24\n",
      "10295/10295 [==============================] - 32s 3ms/step - loss: 0.0643 - accuracy: 0.9783 - val_loss: 0.9137 - val_accuracy: 0.8380\n",
      "Epoch 20/24\n",
      "10295/10295 [==============================] - 28s 3ms/step - loss: 0.0592 - accuracy: 0.9805 - val_loss: 0.9230 - val_accuracy: 0.8340\n",
      "Epoch 21/24\n",
      "10295/10295 [==============================] - 31s 3ms/step - loss: 0.0577 - accuracy: 0.9790 - val_loss: 0.9521 - val_accuracy: 0.8430\n",
      "Epoch 22/24\n",
      "10295/10295 [==============================] - 30s 3ms/step - loss: 0.0469 - accuracy: 0.9843 - val_loss: 0.9389 - val_accuracy: 0.8450\n",
      "Epoch 23/24\n",
      "10295/10295 [==============================] - 29s 3ms/step - loss: 0.0495 - accuracy: 0.9837 - val_loss: 1.0164 - val_accuracy: 0.8480\n",
      "Epoch 24/24\n",
      "10295/10295 [==============================] - 35s 3ms/step - loss: 0.0485 - accuracy: 0.9828 - val_loss: 0.9607 - val_accuracy: 0.8520\n"
     ]
    }
   ],
   "source": [
    "baseline_fit = model.fit(partial_x_train,\n",
    "                    partial_y_train,\n",
    "                    epochs=24,\n",
    "                    batch_size=50,\n",
    "                    validation_data=(x_val, y_val))"
   ]
  },
  {
   "cell_type": "code",
   "execution_count": 63,
   "metadata": {},
   "outputs": [
    {
     "data": {
      "text/plain": [
       "(10295, 64, 64, 1)"
      ]
     },
     "execution_count": 63,
     "metadata": {},
     "output_type": "execute_result"
    }
   ],
   "source": [
    "partial_x_train.shape"
   ]
  },
  {
   "cell_type": "code",
   "execution_count": 55,
   "metadata": {},
   "outputs": [
    {
     "name": "stdout",
     "output_type": "stream",
     "text": [
      "Model: \"sequential_2\"\n",
      "_________________________________________________________________\n",
      "Layer (type)                 Output Shape              Param #   \n",
      "=================================================================\n",
      "conv2d_6 (Conv2D)            (None, 62, 62, 16)        160       \n",
      "_________________________________________________________________\n",
      "max_pooling2d_5 (MaxPooling2 (None, 31, 31, 16)        0         \n",
      "_________________________________________________________________\n",
      "conv2d_7 (Conv2D)            (None, 29, 29, 32)        4640      \n",
      "_________________________________________________________________\n",
      "max_pooling2d_6 (MaxPooling2 (None, 14, 14, 32)        0         \n",
      "_________________________________________________________________\n",
      "conv2d_8 (Conv2D)            (None, 12, 12, 64)        18496     \n",
      "_________________________________________________________________\n",
      "max_pooling2d_7 (MaxPooling2 (None, 6, 6, 64)          0         \n",
      "_________________________________________________________________\n",
      "conv2d_9 (Conv2D)            (None, 4, 4, 64)          36928     \n",
      "_________________________________________________________________\n",
      "max_pooling2d_8 (MaxPooling2 (None, 2, 2, 64)          0         \n",
      "_________________________________________________________________\n",
      "flatten_1 (Flatten)          (None, 256)               0         \n",
      "_________________________________________________________________\n",
      "dense_1 (Dense)              (None, 128)               32896     \n",
      "_________________________________________________________________\n",
      "dense_2 (Dense)              (None, 56)                7224      \n",
      "=================================================================\n",
      "Total params: 100,344\n",
      "Trainable params: 100,344\n",
      "Non-trainable params: 0\n",
      "_________________________________________________________________\n"
     ]
    }
   ],
   "source": [
    "model.summary()"
   ]
  },
  {
   "cell_type": "code",
   "execution_count": 35,
   "metadata": {},
   "outputs": [
    {
     "name": "stdout",
     "output_type": "stream",
     "text": [
      "1000/1000 [==============================] - 1s 700us/step\n"
     ]
    }
   ],
   "source": [
    "score = model.evaluate(x_val, y_val)"
   ]
  },
  {
   "cell_type": "code",
   "execution_count": 39,
   "metadata": {},
   "outputs": [
    {
     "data": {
      "text/plain": [
       "[0.9606979368627071, 0.8519999980926514]"
      ]
     },
     "execution_count": 39,
     "metadata": {},
     "output_type": "execute_result"
    }
   ],
   "source": [
    "score"
   ]
  },
  {
   "cell_type": "code",
   "execution_count": 43,
   "metadata": {},
   "outputs": [],
   "source": [
    "pred_test = model.predict(test_data)"
   ]
  },
  {
   "cell_type": "code",
   "execution_count": 53,
   "metadata": {},
   "outputs": [
    {
     "data": {
      "image/png": "[encoded data removed]",
      "text/plain": [
       "<PIL.Image.Image image mode=L size=64x64 at 0x131A41BD0>"
      ]
     },
     "execution_count": 53,
     "metadata": {},
     "output_type": "execute_result"
    }
   ],
   "source": [
    "array_to_img(test_data[0])"
   ]
  },
  {
   "cell_type": "code",
   "execution_count": 54,
   "metadata": {},
   "outputs": [
    {
     "data": {
      "text/plain": [
       "(64, 64, 1)"
      ]
     },
     "execution_count": 54,
     "metadata": {},
     "output_type": "execute_result"
    }
   ],
   "source": [
    "test_data[0].shape"
   ]
  },
  {
   "cell_type": "code",
   "execution_count": 47,
   "metadata": {
    "collapsed": true,
    "jupyter": {
     "outputs_hidden": true
    }
   },
   "outputs": [
    {
     "data": {
      "text/plain": [
       "{'val_loss': [2.356389707326889,\n",
       "  1.363071122765541,\n",
       "  1.1055592447519302,\n",
       "  0.9650853157043457,\n",
       "  0.8844180196523667,\n",
       "  1.2218548595905303,\n",
       "  0.6542632475495338,\n",
       "  1.3638073801994324,\n",
       "  0.6416590228676796,\n",
       "  0.7535524904727936,\n",
       "  0.6692434653639794,\n",
       "  0.6906569108366967,\n",
       "  0.6410665795207023,\n",
       "  0.6432450369000435,\n",
       "  0.7282631076872349,\n",
       "  0.7572430774569512,\n",
       "  0.8259508445858955,\n",
       "  0.8395433977246285,\n",
       "  0.913739162683487,\n",
       "  0.922955134510994,\n",
       "  0.952133309841156,\n",
       "  0.9389439016580582,\n",
       "  1.0164378851652145,\n",
       "  0.9606979742646218],\n",
       " 'val_accuracy': [0.4099999964237213,\n",
       "  0.6100000143051147,\n",
       "  0.6669999957084656,\n",
       "  0.699999988079071,\n",
       "  0.7329999804496765,\n",
       "  0.6840000152587891,\n",
       "  0.8080000281333923,\n",
       "  0.6079999804496765,\n",
       "  0.8029999732971191,\n",
       "  0.7739999890327454,\n",
       "  0.8209999799728394,\n",
       "  0.8259999752044678,\n",
       "  0.8399999737739563,\n",
       "  0.8399999737739563,\n",
       "  0.8379999995231628,\n",
       "  0.8420000076293945,\n",
       "  0.8349999785423279,\n",
       "  0.8429999947547913,\n",
       "  0.8379999995231628,\n",
       "  0.8339999914169312,\n",
       "  0.8429999947547913,\n",
       "  0.8450000286102295,\n",
       "  0.8479999899864197,\n",
       "  0.8519999980926514],\n",
       " 'loss': [2.9123093187953732,\n",
       "  1.6919337235474365,\n",
       "  1.2013540350736607,\n",
       "  0.9407890038677881,\n",
       "  0.7565324121508105,\n",
       "  0.6117442967302305,\n",
       "  0.5169703717397335,\n",
       "  0.4302212502146995,\n",
       "  0.36100667529079505,\n",
       "  0.29914074485570613,\n",
       "  0.25164739479278697,\n",
       "  0.20399431167093512,\n",
       "  0.17198920018533123,\n",
       "  0.146479154700407,\n",
       "  0.11956494828236514,\n",
       "  0.1018785771399541,\n",
       "  0.08744568724615835,\n",
       "  0.07898671714152061,\n",
       "  0.06427697284959506,\n",
       "  0.05916872361364841,\n",
       "  0.0576732852236124,\n",
       "  0.046900846599295894,\n",
       "  0.049482655316881195,\n",
       "  0.04850953290089259],\n",
       " 'accuracy': [0.2919864,\n",
       "  0.54842156,\n",
       "  0.65730935,\n",
       "  0.72559494,\n",
       "  0.7772705,\n",
       "  0.8164157,\n",
       "  0.8453618,\n",
       "  0.86906266,\n",
       "  0.88615835,\n",
       "  0.90937346,\n",
       "  0.919864,\n",
       "  0.9336571,\n",
       "  0.94482756,\n",
       "  0.9535697,\n",
       "  0.961729,\n",
       "  0.9678485,\n",
       "  0.9710539,\n",
       "  0.9746479,\n",
       "  0.978339,\n",
       "  0.98047596,\n",
       "  0.9790189,\n",
       "  0.9842642,\n",
       "  0.9836814,\n",
       "  0.98280716]}"
      ]
     },
     "execution_count": 47,
     "metadata": {},
     "output_type": "execute_result"
    }
   ],
   "source": [
    "baseline_fit.history"
   ]
  },
  {
   "cell_type": "code",
   "execution_count": 50,
   "metadata": {},
   "outputs": [
    {
     "data": {
      "image/png": "[encoded data removed]",
      "text/plain": [
       "<Figure size 1440x720 with 2 Axes>"
      ]
     },
     "metadata": {
      "needs_background": "light"
     },
     "output_type": "display_data"
    }
   ],
   "source": [
    "\n",
    "plt.figure(figsize=(20,10))\n",
    "plt.subplot(1, 2, 1)\n",
    "plt.suptitle('Optimizer : RMSProp', fontsize=10)\n",
    "plt.ylabel('Loss', fontsize=16)\n",
    "plt.plot(baseline_fit.history['loss'], label='Training Loss')\n",
    "plt.plot(baseline_fit.history['val_loss'], label='Validation Loss')\n",
    "plt.legend(loc='upper right')\n",
    "\n",
    "plt.subplot(1, 2, 2)\n",
    "plt.ylabel('Accuracy', fontsize=16)\n",
    "plt.plot(baseline_fit.history['accuracy'], label='Training Accuracy')\n",
    "plt.plot(baseline_fit.history['val_accuracy'], label='Validation Accuracy')\n",
    "plt.legend(loc='lower right')\n",
    "plt.show()"
   ]
  },
  {
   "cell_type": "code",
   "execution_count": 108,
   "metadata": {},
   "outputs": [
    {
     "ename": "YellowbrickTypeError",
     "evalue": "This estimator is not a classifier; try a regression or clustering score visualizer instead!",
     "output_type": "error",
     "traceback": [
      "\u001b[0;31m---------------------------------------------------------------------------\u001b[0m",
      "\u001b[0;31mYellowbrickTypeError\u001b[0m                      Traceback (most recent call last)",
      "\u001b[0;32m<ipython-input-108-a89fbf9a60b8>\u001b[0m in \u001b[0;36m<module>\u001b[0;34m\u001b[0m\n\u001b[1;32m      1\u001b[0m \u001b[0;32mfrom\u001b[0m \u001b[0myellowbrick\u001b[0m\u001b[0;34m.\u001b[0m\u001b[0mclassifier\u001b[0m \u001b[0;32mimport\u001b[0m \u001b[0mClassificationReport\u001b[0m\u001b[0;34m\u001b[0m\u001b[0;34m\u001b[0m\u001b[0m\n\u001b[1;32m      2\u001b[0m \u001b[0;34m\u001b[0m\u001b[0m\n\u001b[0;32m----> 3\u001b[0;31m \u001b[0mvisualizer\u001b[0m \u001b[0;34m=\u001b[0m \u001b[0mClassificationReport\u001b[0m\u001b[0;34m(\u001b[0m\u001b[0mbaseline_fit\u001b[0m\u001b[0;34m,\u001b[0m \u001b[0msupport\u001b[0m \u001b[0;34m=\u001b[0m \u001b[0;32mTrue\u001b[0m\u001b[0;34m)\u001b[0m\u001b[0;34m\u001b[0m\u001b[0;34m\u001b[0m\u001b[0m\n\u001b[0m\u001b[1;32m      4\u001b[0m \u001b[0;34m\u001b[0m\u001b[0m\n\u001b[1;32m      5\u001b[0m \u001b[0mvisualizer\u001b[0m\u001b[0;34m.\u001b[0m\u001b[0mfit\u001b[0m\u001b[0;34m(\u001b[0m\u001b[0mpartial_x_train\u001b[0m\u001b[0;34m,\u001b[0m \u001b[0mpartial_y_train\u001b[0m\u001b[0;34m)\u001b[0m        \u001b[0;31m# Fit the visualizer and the model\u001b[0m\u001b[0;34m\u001b[0m\u001b[0;34m\u001b[0m\u001b[0m\n",
      "\u001b[0;32m/opt/anaconda3/lib/python3.7/site-packages/yellowbrick/classifier/classification_report.py\u001b[0m in \u001b[0;36m__init__\u001b[0;34m(self, model, ax, classes, cmap, support, encoder, is_fitted, force_model, **kwargs)\u001b[0m\n\u001b[1;32m    143\u001b[0m             \u001b[0mis_fitted\u001b[0m\u001b[0;34m=\u001b[0m\u001b[0mis_fitted\u001b[0m\u001b[0;34m,\u001b[0m\u001b[0;34m\u001b[0m\u001b[0;34m\u001b[0m\u001b[0m\n\u001b[1;32m    144\u001b[0m             \u001b[0mforce_model\u001b[0m\u001b[0;34m=\u001b[0m\u001b[0mforce_model\u001b[0m\u001b[0;34m,\u001b[0m\u001b[0;34m\u001b[0m\u001b[0;34m\u001b[0m\u001b[0m\n\u001b[0;32m--> 145\u001b[0;31m             \u001b[0;34m**\u001b[0m\u001b[0mkwargs\u001b[0m\u001b[0;34m\u001b[0m\u001b[0;34m\u001b[0m\u001b[0m\n\u001b[0m\u001b[1;32m    146\u001b[0m         )\n\u001b[1;32m    147\u001b[0m \u001b[0;34m\u001b[0m\u001b[0m\n",
      "\u001b[0;32m/opt/anaconda3/lib/python3.7/site-packages/yellowbrick/classifier/base.py\u001b[0m in \u001b[0;36m__init__\u001b[0;34m(self, model, ax, fig, classes, encoder, is_fitted, force_model, **kwargs)\u001b[0m\n\u001b[1;32m    121\u001b[0m         \u001b[0;32mif\u001b[0m \u001b[0;32mnot\u001b[0m \u001b[0mforce_model\u001b[0m \u001b[0;32mand\u001b[0m \u001b[0;32mnot\u001b[0m \u001b[0misclassifier\u001b[0m\u001b[0;34m(\u001b[0m\u001b[0mmodel\u001b[0m\u001b[0;34m)\u001b[0m\u001b[0;34m:\u001b[0m\u001b[0;34m\u001b[0m\u001b[0;34m\u001b[0m\u001b[0m\n\u001b[1;32m    122\u001b[0m             raise YellowbrickTypeError(\n\u001b[0;32m--> 123\u001b[0;31m                 \u001b[0;34m\"This estimator is not a classifier; \"\u001b[0m\u001b[0;34m\u001b[0m\u001b[0;34m\u001b[0m\u001b[0m\n\u001b[0m\u001b[1;32m    124\u001b[0m                 \u001b[0;34m\"try a regression or clustering score visualizer instead!\"\u001b[0m\u001b[0;34m\u001b[0m\u001b[0;34m\u001b[0m\u001b[0m\n\u001b[1;32m    125\u001b[0m             )\n",
      "\u001b[0;31mYellowbrickTypeError\u001b[0m: This estimator is not a classifier; try a regression or clustering score visualizer instead!"
     ]
    }
   ],
   "source": [
    "from yellowbrick.classifier import ClassificationReport\n",
    "\n",
    "visualizer = ClassificationReport(baseline_fit, support = True)\n",
    "\n",
    "visualizer.fit(partial_x_train, partial_y_train)        # Fit the visualizer and the model\n",
    "visualizer.score(x_val, y_val)        # Evaluate the model on the test data\n",
    "visualizer.show()    "
   ]
  },
  {
   "cell_type": "markdown",
   "metadata": {},
   "source": [
    "## View model predictions"
   ]
  },
  {
   "cell_type": "code",
   "execution_count": 94,
   "metadata": {},
   "outputs": [
    {
     "data": {
      "image/png": "[encoded data removed]",
      "text/plain": [
       "<PIL.Image.Image image mode=RGB size=256x256 at 0x14E4BDF90>"
      ]
     },
     "execution_count": 94,
     "metadata": {},
     "output_type": "execute_result"
    }
   ],
   "source": [
    "test_image = image.load_img('../text-recognition/test/would/g03-000-02-04.png',\n",
    "                            target_size = (256, 256, 1))\n",
    "# test_image = image.img_to_array(test_image)\n",
    "# # test_image = np.expand_dims(test_image, axis = 0)\n",
    "# #result = model.predict(test_image)\n",
    "# # training_set.class_indices\n",
    "# # result\n",
    "\n",
    "test_image\n",
    "                           "
   ]
  },
  {
   "cell_type": "code",
   "execution_count": 100,
   "metadata": {},
   "outputs": [
    {
     "name": "stdout",
     "output_type": "stream",
     "text": [
      "Found 1 images belonging to 1 classes.\n"
     ]
    }
   ],
   "source": [
    "generator_size_test = ImageDataGenerator(rescale=1./255).flow_from_directory('../text-recognition/test/it',\n",
    "        color_mode = 'grayscale',\n",
    "        target_size=(64, 64),\n",
    "        #class_mode = 'categorical', \n",
    "        batch_size=11295)"
   ]
  },
  {
   "cell_type": "code",
   "execution_count": 103,
   "metadata": {},
   "outputs": [
    {
     "data": {
      "text/plain": [
       "<keras.preprocessing.image.DirectoryIterator at 0x14eeebbd0>"
      ]
     },
     "execution_count": 103,
     "metadata": {},
     "output_type": "execute_result"
    }
   ],
   "source": [
    "generator_size_test"
   ]
  },
  {
   "cell_type": "code",
   "execution_count": null,
   "metadata": {},
   "outputs": [],
   "source": []
  },
  {
   "cell_type": "code",
   "execution_count": null,
   "metadata": {},
   "outputs": [],
   "source": [
    "#Try transfer learning with VGG16 model? \n",
    "#conv_base\n",
    "#add dropout? "
   ]
  }
 ],
 "metadata": {
  "kernelspec": {
   "display_name": "Python 3",
   "language": "python",
   "name": "python3"
  },
  "language_info": {
   "codemirror_mode": {
    "name": "ipython",
    "version": 3
   },
   "file_extension": ".py",
   "mimetype": "text/x-python",
   "name": "python",
   "nbconvert_exporter": "python",
   "pygments_lexer": "ipython3",
   "version": "3.7.4"
  }
 },
 "nbformat": 4,
 "nbformat_minor": 4
}
